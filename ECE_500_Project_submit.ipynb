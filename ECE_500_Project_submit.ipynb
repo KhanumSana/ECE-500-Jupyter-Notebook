{
 "cells": [
  {
   "cell_type": "code",
   "execution_count": 1,
   "metadata": {},
   "outputs": [],
   "source": [
    "import numpy as np\n",
    "import random\n",
    "#np.random.seed(123)"
   ]
  },
  {
   "cell_type": "code",
   "execution_count": 2,
   "metadata": {},
   "outputs": [],
   "source": [
    "def areBinaryWeights(weights):\n",
    "    flag = True\n",
    "    th = 1e-12\n",
    "    for i in range(np.shape(weights),-1,-1):\n",
    "        if(weights[i] > th and (1-weights[i])>th):\n",
    "            flag = false\n",
    "            break\n",
    "            \n",
    "    return flag"
   ]
  },
  {
   "cell_type": "code",
   "execution_count": 3,
   "metadata": {},
   "outputs": [],
   "source": [
    "import uuid\n",
    "import datetime\n",
    "\n",
    "def empty_problem():\n",
    "    problem = {}\n",
    "    problem['type'] = 'None'\n",
    "    problem['N'] = 0\n",
    "    problem['outliers'] = []\n",
    "    problem['priors'] = []\n",
    "    problem['dof'] = 0\n",
    "    #problem['time'] = now\n",
    "    problem['time'] = datetime.datetime.now()\n",
    "    # Unique identifier\n",
    "    problem['uuid'] = uuid.uuid4().hex\n",
    "    return problem\n",
    "    "
   ]
  },
  {
   "cell_type": "code",
   "execution_count": 4,
   "metadata": {},
   "outputs": [],
   "source": [
    "def isProblem(problem):\n",
    "    mandatory_fields = {'type', 'N', 'outliers', 'priors', 'dof'}\n",
    "    #flag = all(isfield(problem, mandatory_fields))\n",
    "    flag = all(field in problem for field in mandatory_fields)\n",
    "    #flag = all(field in problem for field in mandatory_fields)\n",
    "    return flag"
   ]
  },
  {
   "cell_type": "code",
   "execution_count": 5,
   "metadata": {},
   "outputs": [],
   "source": [
    "def rand_in(n,m, interval):\n",
    "    a = interval[0]\n",
    "    b = interval[1]\n",
    "    r = a + (b-a)*np.random. rand(n,m)\n",
    "    \n",
    "    return r"
   ]
  },
  {
   "cell_type": "code",
   "execution_count": 6,
   "metadata": {},
   "outputs": [],
   "source": [
    "def randn_in(n,m, interval):\n",
    "    a = interval[0]\n",
    "    b = interval[1]\n",
    "    r = a + (b-a)*np.random.randn(n,m)\n",
    "    return r"
   ]
  },
  {
   "cell_type": "code",
   "execution_count": 7,
   "metadata": {},
   "outputs": [],
   "source": [
    "from numpy.linalg import matrix_rank\n",
    "import random\n",
    "\n",
    "def random_matrix(n, m, desired_rank):\n",
    "    max_rank = min(n, m)\n",
    "    if desired_rank==None:\n",
    "        desired_rank = max_rank\n",
    "    assert desired_rank<=max_rank, 'Cannot generate a matrix a random matrix with the desired rank'\n",
    "    M = 3*np.random.rand(n, m)\n",
    "    while matrix_rank(M) < max_rank and matrix_rank(M) > 0:\n",
    "        M = rand_in(n, m, [-1, 1])\n",
    "    rank_M = matrix_rank(M)\n",
    "    \n",
    "    if rank_M != desired_rank:\n",
    "        col_perm = random.sample(range(m), rank_M - desired_rank + 1)\n",
    "        for i in range(rank_M-desired_rank+1):\n",
    "                M[:, col_perm[0]] = M[:, col_perm[i]]\n",
    "    return M"
   ]
  },
  {
   "cell_type": "code",
   "execution_count": null,
   "metadata": {},
   "outputs": [],
   "source": []
  },
  {
   "cell_type": "code",
   "execution_count": 8,
   "metadata": {},
   "outputs": [],
   "source": [
    "def gncWeightsUpdate(weights, mu, residuals, barc2):\n",
    "    th1 = (mu+1)/mu*barc2\n",
    "    th2 = (mu)/(mu+1)*barc2\n",
    "    #print('mu is: ', mu)\n",
    "    #print('th1 is: ', th1)\n",
    "    #print('th2 is: ', th2)\n",
    "    \n",
    "    for k in range(np.shape(residuals)):\n",
    "        if residuals[k] - th1 >=0:\n",
    "            weights[k] = 0\n",
    "        elif residuals[k] - th2 <=0:\n",
    "            weights[k] = 1\n",
    "        else:\n",
    "            weights[k] = np.sqrt(barc2*mu*(mu+1)/residuals[k]) - mu\n",
    "            #assert weights[k] >=0 and weights[k] <=1, 'weights calculation wrong!', weights(k)\n",
    "            assert weights[k] >=0 and weights[k] <=1, 'weights calculation wrong!'\n",
    "  \n",
    "    return weights, th1, th2     \n",
    "    "
   ]
  },
  {
   "cell_type": "code",
   "execution_count": 9,
   "metadata": {},
   "outputs": [],
   "source": [
    "from scipy import sparse\n",
    "from scipy.sparse.linalg import spsolve\n",
    "import numpy as np\n",
    "import numbers\n",
    "import random\n",
    "from scipy.stats import chi2"
   ]
  },
  {
   "cell_type": "code",
   "execution_count": 10,
   "metadata": {},
   "outputs": [],
   "source": [
    "def linearRegressionProblem(N, outliers_percentage, **kwargs):\n",
    "    \n",
    "    StateDimension = kwargs.get('StateDimension', 3)\n",
    "    #print(StateDimension, type(StateDimension))\n",
    "    #print(isinstance(StateDimension, numbers.Number))\n",
    "    #print(np.size(StateDimension), np.size(StateDimension)==1) \n",
    "    #print(StateDimension >=1) \n",
    "    \n",
    "    assert isinstance(StateDimension, numbers.Number) and np.size(StateDimension)==1 and StateDimension >=1, 'StateDimension must be numeric, scalar, and >=1'\n",
    "    \n",
    "    MeasurementDimension = kwargs.get('MeasurementDimension', 3)\n",
    "    assert isinstance(MeasurementDimension, numbers.Number) and np.size(MeasurementDimension)==1 and np.array(MeasurementDimension)>=1, 'MeasurementDimension must be numeric, scalar, and >=1'\n",
    "    \n",
    "    StateMeanandStd = kwargs.get('StateMeanAndStd', [1,1])\n",
    "    assert all(isinstance(elem, numbers.Number) for elem in StateMeanandStd) and np.size(StateMeanandStd)==2 and all(np.array(StateMeanandStd) >=0), 'StateMeanandStd should be numeric, vector of length 2, and >=0'\n",
    "    \n",
    "    MeasurementNoiseStd = kwargs.get('MeasurementNoiseStd', 0.1)\n",
    "    assert isinstance(MeasurementNoiseStd, numbers.Number) and np.size(MeasurementNoiseStd)==1 and MeasurementNoiseStd>0\n",
    "    \n",
    "    OutlierSpace = kwargs.get('OutlierSpace', [-100, 100])\n",
    "    assert all(isinstance(elem, numbers.Number) for elem in OutlierSpace) and np.size(OutlierSpace)==2 and np.array(OutlierSpace[0]) <= np.array(OutlierSpace[1]), 'OutlierSpace must be numeric, vector of length 2, and OutlierSpace[0] < OutlierSpace[1]'\n",
    "    \n",
    "    if kwargs==None:\n",
    "        outliers_percentage = 0\n",
    "        \n",
    "    problem = empty_problem()\n",
    "    problem['N'] = N\n",
    "    problem['StateDimension'] = StateDimension\n",
    "    problem['MeasurementDimension'] = MeasurementDimension\n",
    "    problem['MeasurementNoiseStd'] = MeasurementNoiseStd\n",
    "    problem['dof'] = MeasurementDimension\n",
    "    problem['type'] = 'linear-estimation'\n",
    "    num_outliers = np.floor(outliers_percentage*N)\n",
    "    problem['x_gt'] = np.random.normal(StateMeanandStd[0], StateMeanandStd[1], (StateDimension,1))\n",
    "    \n",
    "    problem['A'] = []\n",
    "    for i in range(N):\n",
    "        problem['A'].append(random_matrix(MeasurementDimension, StateDimension, min(MeasurementDimension, StateDimension)))\n",
    "    #print('MeasurementDimension: ', MeasurementDimension)\n",
    "    problem['y'] = []\n",
    "    for i in range(N):\n",
    "        problem['y'].append(problem['A'][i] .dot( problem['x_gt']) +  np.random.normal(0, int(MeasurementNoiseStd), size=(int(MeasurementDimension), 1)))\n",
    "    \n",
    "    convi = 1/MeasurementNoiseStd*np.eye(MeasurementDimension)\n",
    "    problem['outliers'] = sorted(random.sample(range(problem['N']), int(np.array(num_outliers))))\n",
    "    \n",
    "    for i in problem['outliers']:\n",
    "        y_gt = problem['y'][i]\n",
    "        d = 0\n",
    "        #print(OutlierSpace, np.shape(OutlierSpace))\n",
    "        #print(d, chi2.ppf(0.999, int(MeasurementDimension)), d < chi2.ppf(0.999, int(MeasurementDimension)))\n",
    "        while (d < chi2.ppf(0.999, int(MeasurementDimension))):\n",
    "            #y_meas = rand_in(MeasurementDimension, 1, range(OutlierSpace[0], OutlierSpace[1]+1))\n",
    "            \n",
    "            y_meas = rand_in(MeasurementDimension, 1, (OutlierSpace))\n",
    "\n",
    "            d = (y_gt - y_meas).T @ convi @ (y_gt - y_meas)\n",
    "            #print(d < chi2.ppf(0.999, int(MeasurementDimension)))\n",
    "        \n",
    "        problem['y'][i] = y_meas\n",
    "        \n",
    "    problem['priors'] = []\n",
    "    \n",
    "    return problem\n",
    "        \n",
    "    \n",
    "    "
   ]
  },
  {
   "cell_type": "code",
   "execution_count": 11,
   "metadata": {
    "scrolled": true
   },
   "outputs": [],
   "source": [
    "num_samples = 100; #% how many measurements are available\n",
    "outliers_percentage = 0.6;\n",
    "\n",
    "problem = linearRegressionProblem(num_samples, outliers_percentage);\n"
   ]
  },
  {
   "cell_type": "code",
   "execution_count": 12,
   "metadata": {},
   "outputs": [],
   "source": [
    "import scipy.sparse as sp\n",
    "from scipy.sparse.linalg import spsolve\n",
    "from scipy import sparse\n",
    "\n",
    "\n",
    "\n",
    "def leastSquareNorm2(problem, **kwargs):\n",
    "    \n",
    "    assert isProblem(problem) and problem['type']=='linear-estimation', 'You cannot solve this problem with linear least square'\n",
    "    measurements = range(problem['N'])\n",
    "    default_weights = np.ones(problem['N'])\n",
    "    \n",
    "    Inliers = kwargs.get('Inliers', measurements)\n",
    "    assert all(isinstance(elem, numbers.Number) for elem in Inliers) and np.all(np.floor(Inliers)==Inliers), 'Inliers must be numeric and integers'\n",
    "    #print('Inliers: ', Inliers)\n",
    "    \n",
    "    Weights = kwargs.get('Weights', default_weights)\n",
    "    #print('Weights: ', Weights)\n",
    "    #print('Type of Weights: ', type(Weights))\n",
    "    \n",
    "    assert all(isinstance(elem, numbers.Number) for elem in Weights), 'Weights must be numeric'\n",
    "    #assert all(isinstance(elem, numbers.Number) for elem in Weights), \"Weights must be numeric\"\n",
    "    \n",
    "    Estimate = kwargs.get('Estimate', [])\n",
    "    assert all(isinstance(elem, numbers.Number) for elem in Estimate), 'Estimate must be numeric'\n",
    "    \n",
    "    assert np.size(Weights)==problem['N'], 'The weights should be a 1xN vector'\n",
    "    \"\"\"\n",
    "    A_ = {}\n",
    "    for i in Inliers:\n",
    "        A_[i] = (np.sqrt(Weights[i]) *  problem['A'][i])\n",
    "\n",
    "    print(np.size(A_))\n",
    "    print(A_)\n",
    "    \n",
    "    \n",
    "    #A_ = np.vstack(A_)\n",
    "    #A_sparse = sp.csr_matrix(A_)\n",
    "    A_sparse = sparse.vstack(A_)\n",
    "    #print(A_sparse)\n",
    "    \n",
    "    y_ = {}\n",
    "    for i in Inliers:\n",
    "        y_[i] = np.sqrt(Weights[i]*problem['y'][i])\n",
    "    \n",
    "    print(np.size(y_))\n",
    "    print(y_)\n",
    "    \n",
    "    #y_ = np.vstack(y_)\n",
    "    #y_sparse = sp.csr_matrix(y_)\n",
    "    y_sparse = sparse.vstack(y_)\n",
    "    #print(y_sparse)\n",
    "    \"\"\"\n",
    "    \n",
    "    A_ = [None] * len(Inliers)\n",
    "    #print(np.size(A_))\n",
    "    for i in Inliers:\n",
    "        A_.append(np.sqrt(Weights[i]) * problem['A'][i])\n",
    "    A_sparse = sparse.vstack(A_)\n",
    "\n",
    "    y_ = [None] * len(Inliers)\n",
    "    for i in Inliers:\n",
    "        y_.append(np.sqrt(Weights[i]) * problem['y'][i])\n",
    "    y_sparse = sparse.vstack(y_)\n",
    "    \n",
    "    #print(np.size(A_), np.size(y_))\n",
    "    \n",
    "    \n",
    "    if np.size(Estimate)==0:\n",
    "        #x = (A_sparse.T @ A_sparse)\\(A_sparse.T @ y_sparse)\n",
    "        #x = spsolve(A_.T @ A_, A_.T @ y_)\n",
    "        x = spsolve(A_sparse.T @ A_sparse, A_sparse.T @ y_sparse)\n",
    "    else:\n",
    "        print('Not isempty(params.Results.Estimate)')\n",
    "        x = kwargs['Estimate']\n",
    "    \n",
    "    #f_val = np.linalg.norm(np.dot(A_sparse.T , x) - y_sparse)**2\n",
    "    #print(x, np.shape(x))\n",
    "    \n",
    "    f_val = np.linalg.norm(A_sparse.dot(np.array(x).reshape(-1, 1)) - y_sparse)**2\n",
    "    \n",
    "    residues = np.zeros(((int(np.array(problem['MeasurementDimension'])), problem['N'])))\n",
    "    for i in range(problem['N']):\n",
    "        #print(np.shape(problem['A'][i]))\n",
    "        #print(np.shape(x))\n",
    "        #print(np.shape(problem['y'][i]))\n",
    "        #residues[:,i] = (problem['A'][i].dot(x.reshape(-1, 1)) - problem['y'][i]).ravel()\n",
    "        residues[:,i] = (problem['A'][i].dot(x).reshape(-1,1) - problem['y'][i]).ravel()\n",
    "        \n",
    "    residuals = np.zeros(problem['N'])\n",
    "    for i in range(problem['N']):\n",
    "        residuals[i] = np.linalg.norm(residues[:,i])**2\n",
    "        \n",
    "    info = {'x': x, 'residuals': residuals, 'residues': residues}\n",
    "    \n",
    "    return f_val, info\n",
    "    "
   ]
  },
  {
   "cell_type": "code",
   "execution_count": 13,
   "metadata": {},
   "outputs": [],
   "source": [
    "problem = linearRegressionProblem(num_samples, outliers_percentage);\n",
    "problem['f'] = leastSquareNorm2;\n",
    "problem['MinMeasurements'] = 1;"
   ]
  },
  {
   "cell_type": "code",
   "execution_count": 14,
   "metadata": {},
   "outputs": [],
   "source": [
    "def printProblemSummary(problem):\n",
    "    num_outliers = np.size(problem['outliers']);\n",
    "    print('Problem:\\n');\n",
    "    print('Type:', problem['type']);\n",
    "    print('Measurements (N):', problem['N']);\n",
    "    print('Num. outliers (k): ', num_outliers);\n",
    "    print('Num. priors:   ', len(problem['priors']));\n",
    "    print('Num. possible outliers (|V|): ', problem['N'] - np.size(problem['priors']));\n",
    "    print('   k/N: %.03f\\n', num_outliers/problem['N']);\n",
    "    print('   k/|V|: %.03f\\n', num_outliers/(problem['N'] - len(problem['priors'])));\n",
    "    "
   ]
  },
  {
   "cell_type": "code",
   "execution_count": 15,
   "metadata": {},
   "outputs": [
    {
     "name": "stdout",
     "output_type": "stream",
     "text": [
      "Problem:\n",
      "\n",
      "Type: linear-estimation\n",
      "Measurements (N): 100\n",
      "Num. outliers (k):  60\n",
      "Num. priors:    0\n",
      "Num. possible outliers (|V|):  100\n",
      "   k/N: %.03f\n",
      " 0.6\n",
      "   k/|V|: %.03f\n",
      " 0.6\n"
     ]
    }
   ],
   "source": [
    "printProblemSummary(problem)"
   ]
  },
  {
   "cell_type": "code",
   "execution_count": 16,
   "metadata": {
    "scrolled": true
   },
   "outputs": [
    {
     "name": "stdout",
     "output_type": "stream",
     "text": [
      "  - Least-Square\n",
      "\n"
     ]
    }
   ],
   "source": [
    "print('  - Least-Square\\n')\n",
    "start_t = datetime.datetime.now();\n",
    "\n",
    "[f_val_ls, info_ls] = leastSquareNorm2(problem, Inliers =range(problem['N']));\n",
    "runtime = (datetime.datetime.now()-start_t)*24*60*60;"
   ]
  },
  {
   "cell_type": "code",
   "execution_count": 17,
   "metadata": {},
   "outputs": [
    {
     "name": "stdout",
     "output_type": "stream",
     "text": [
      "640441.7201253088\n"
     ]
    }
   ],
   "source": [
    "print(f_val_ls)"
   ]
  },
  {
   "cell_type": "code",
   "execution_count": 18,
   "metadata": {},
   "outputs": [
    {
     "name": "stdout",
     "output_type": "stream",
     "text": [
      "Solving with:\n"
     ]
    }
   ],
   "source": [
    "import numpy as np\n",
    "from scipy.stats import chi2\n",
    "\n",
    "cfg                 = {}\n",
    "cfg['epsilon']      = chi2.ppf(0.99, problem['dof']) * np.array(problem['MeasurementNoiseStd'])**2\n",
    "cfg['epsilon_mts']  = lambda n: chi2.ppf(0.99, n*problem['dof'])\n",
    "cfg['epsilon_dmts'] = lambda n1, n2: UDGinv(0.99, n1*problem['dof']/2, n2*problem['dof']/2, 2*problem['MeasurementNoiseStd']**2, 2*problem['MeasurementNoiseStd']**2)\n",
    "results             = {}\n",
    "print('Solving with:')"
   ]
  },
  {
   "cell_type": "code",
   "execution_count": 19,
   "metadata": {},
   "outputs": [
    {
     "name": "stdout",
     "output_type": "stream",
     "text": [
      "Solving with:\n",
      "\n"
     ]
    }
   ],
   "source": [
    "print('Solving with:\\n')\n",
    "\n",
    "results = {}\n",
    "results['ls'] = {}\n",
    "results['ls']['algname'] = 'Least-Square'\n",
    "results['ls']['f_val'] = f_val_ls\n",
    "#tp, fp = detectionStats(problem, np.arange(1, problem['N']+1))\n",
    "#results['ls']['stats'] = {'tp': tp, 'fp': fp}\n",
    "results['ls']['iterations'] = 1\n",
    "results['ls']['time'] = runtime\n"
   ]
  },
  {
   "cell_type": "code",
   "execution_count": 20,
   "metadata": {},
   "outputs": [],
   "source": [
    "import scipy.sparse as sp\n",
    "from scipy.sparse.linalg import spsolve\n",
    "from scipy import sparse\n",
    "\n",
    "\n",
    "\n",
    "def leastSquareNorm2(problem, **kwargs):\n",
    "    \n",
    "    assert isProblem(problem) and problem['type']=='linear-estimation', 'You cannot solve this problem with linear least square'\n",
    "    measurements = range(problem['N'])\n",
    "    default_weights = np.ones(problem['N'])\n",
    "    \n",
    "    Inliers = kwargs.get('Inliers', measurements)\n",
    "    assert all(isinstance(elem, numbers.Number) for elem in Inliers) and np.all(np.floor(Inliers)==Inliers), 'Inliers must be numeric and integers'\n",
    "    #print('Inliers: ', Inliers)\n",
    "    \n",
    "    Weights = kwargs.get('Weights', default_weights)\n",
    "    #print('Weights: ', Weights)\n",
    "    #print('Type of Weights: ', type(Weights))\n",
    "    \n",
    "    assert all(isinstance(elem, numbers.Number) for elem in Weights), 'Weights must be numeric'\n",
    "    #assert all(isinstance(elem, numbers.Number) for elem in Weights), \"Weights must be numeric\"\n",
    "    \n",
    "    Estimate = kwargs.get('Estimate', [])\n",
    "    assert all(isinstance(elem, numbers.Number) for elem in Estimate), 'Estimate must be numeric'\n",
    "    \n",
    "    assert np.size(Weights)==problem['N'], 'The weights should be a 1xN vector'\n",
    "    \"\"\"\n",
    "    A_ = {}\n",
    "    for i in Inliers:\n",
    "        A_[i] = (np.sqrt(Weights[i]) *  problem['A'][i])\n",
    "\n",
    "    print(np.size(A_))\n",
    "    print(A_)\n",
    "    \n",
    "    \n",
    "    #A_ = np.vstack(A_)\n",
    "    #A_sparse = sp.csr_matrix(A_)\n",
    "    A_sparse = sparse.vstack(A_)\n",
    "    #print(A_sparse)\n",
    "    \n",
    "    y_ = {}\n",
    "    for i in Inliers:\n",
    "        y_[i] = np.sqrt(Weights[i]*problem['y'][i])\n",
    "    \n",
    "    print(np.size(y_))\n",
    "    print(y_)\n",
    "    \n",
    "    #y_ = np.vstack(y_)\n",
    "    #y_sparse = sp.csr_matrix(y_)\n",
    "    y_sparse = sparse.vstack(y_)\n",
    "    #print(y_sparse)\n",
    "    \"\"\"\n",
    "    \n",
    "    A_ = [None] * len(Inliers)\n",
    "    #print(np.size(A_))\n",
    "    for i in Inliers:\n",
    "        A_.append(np.sqrt(Weights[i]) * problem['A'][i])\n",
    "    A_sparse = sparse.vstack(A_)\n",
    "\n",
    "    y_ = [None] * len(Inliers)\n",
    "    for i in Inliers:\n",
    "        y_.append(np.sqrt(Weights[i]) * problem['y'][i])\n",
    "    y_sparse = sparse.vstack(y_)\n",
    "    \n",
    "    #print(np.size(A_), np.size(y_))\n",
    "    \n",
    "    \"\"\"\"\n",
    "    if np.size(Estimate)==0:\n",
    "        #x = (A_sparse.T @ A_sparse)\\(A_sparse.T @ y_sparse)\n",
    "        #x = spsolve(A_.T @ A_, A_.T @ y_)\n",
    "        x = spsolve(A_sparse.T @ A_sparse, A_sparse.T @ y_sparse)\n",
    "    else:\n",
    "        print('Not isempty(params.Results.Estimate)')\n",
    "        x = kwargs['Estimate']\n",
    "    \"\"\"\n",
    "    \n",
    "    if 'Estimate' in kwargs and kwargs['Estimate'] is not None:\n",
    "        x = kwargs['Estimate']\n",
    "    else:\n",
    "        x = spsolve(A_sparse.T @ A_sparse, A_sparse.T @ y_sparse)\n",
    "    \n",
    "    \n",
    "    #f_val = np.linalg.norm(np.dot(A_sparse.T , x) - y_sparse)**2\n",
    "    #print(x, np.shape(x))\n",
    "    \n",
    "    f_val = np.linalg.norm(A_sparse.dot(np.array(x).reshape(-1, 1)) - y_sparse)**2\n",
    "    \n",
    "    residues = np.zeros(((int(np.array(problem['MeasurementDimension'])), problem['N'])))\n",
    "    for i in range(problem['N']):\n",
    "        #print(np.shape(problem['A'][i]))\n",
    "        #print(np.shape(x))\n",
    "        #print(np.shape(problem['y'][i]))\n",
    "        #residues[:,i] = (problem['A'][i].dot(x.reshape(-1, 1)) - problem['y'][i]).ravel()\n",
    "        residues[:,i] = (problem['A'][i].dot(x).reshape(-1,1) - problem['y'][i]).ravel()\n",
    "        \n",
    "    residuals = np.zeros(problem['N'])\n",
    "    for i in range(problem['N']):\n",
    "        residuals[i] = np.linalg.norm(residues[:,i])**2\n",
    "        \n",
    "    info = {'x': x, 'residuals': residuals, 'residues': residues}\n",
    "    \n",
    "    return f_val, info\n",
    "    "
   ]
  },
  {
   "cell_type": "code",
   "execution_count": null,
   "metadata": {},
   "outputs": [],
   "source": []
  },
  {
   "cell_type": "code",
   "execution_count": 21,
   "metadata": {},
   "outputs": [
    {
     "name": "stdout",
     "output_type": "stream",
     "text": [
      "  - Ground-Truth Least-Square...\n",
      "\n"
     ]
    }
   ],
   "source": [
    "print('  - Ground-Truth Least-Square...\\n')\n",
    "inliers_gt = np.setdiff1d(range(problem['N']), problem['outliers']);"
   ]
  },
  {
   "cell_type": "code",
   "execution_count": 22,
   "metadata": {
    "scrolled": true
   },
   "outputs": [],
   "source": [
    "start_t = datetime.datetime.now()\n",
    "f_val_gt,info_gt = leastSquareNorm2(problem, Inliers=list(inliers_gt))\n",
    "runtime = (datetime.datetime.now()-start_t)*24*60*60;"
   ]
  },
  {
   "cell_type": "code",
   "execution_count": 23,
   "metadata": {},
   "outputs": [
    {
     "name": "stdout",
     "output_type": "stream",
     "text": [
      "[ 4  7  9 13 14 18 24 27 28 31 32 33 34 42 45 48 50 60 61 64 65 66 67 68\n",
      " 69 73 74 75 77 78 83 84 85 86 87 91 92 93 94 97]\n",
      "(array([ 4,  7,  9, 13, 14, 18, 24, 27, 28, 31, 32, 33, 34, 42, 45, 48, 50,\n",
      "       60, 61, 64, 65, 66, 67, 68, 69, 73, 74, 75, 77, 78, 83, 84, 85, 86,\n",
      "       87, 91, 92, 93, 94, 97], dtype=int64),)\n"
     ]
    }
   ],
   "source": [
    "print(inliers_gt)\n",
    "print(np.where(info_gt['residuals']<10))"
   ]
  },
  {
   "cell_type": "code",
   "execution_count": 24,
   "metadata": {
    "scrolled": true
   },
   "outputs": [
    {
     "name": "stdout",
     "output_type": "stream",
     "text": [
      "[ 4  7  9 13 14 18 24 27 28 31 32 33 34 42 45 48 50 60 61 64 65 66 67 68\n",
      " 69 73 74 75 77 78 83 84 85 86 87 91 92 93 94 97]\n",
      "(array([ 4,  7,  9, 13, 14, 18, 24, 27, 28, 31, 32, 33, 34, 42, 45, 48, 50,\n",
      "       60, 61, 64, 65, 66, 67, 68, 69, 73, 74, 75, 77, 78, 83, 84, 85, 86,\n",
      "       87, 91, 92, 93, 94, 97], dtype=int64),)\n",
      "[False False False False  True False False  True False  True False False\n",
      " False  True  True False False False  True False False False False False\n",
      "  True False False  True  True False False  True  True  True  True False\n",
      " False False False False False False  True False False  True False False\n",
      "  True False  True False False False False False False False False False\n",
      "  True  True False False  True  True  True  True  True  True False False\n",
      " False  True  True  True False  True  True False False False False  True\n",
      "  True  True  True  True False False False  True  True  True  True False\n",
      " False  True False False]\n"
     ]
    }
   ],
   "source": [
    "print(inliers_gt)\n",
    "print(np.where(info_gt['residuals']<10))\n",
    "print(info_gt['residuals']<8)"
   ]
  },
  {
   "cell_type": "code",
   "execution_count": 25,
   "metadata": {
    "scrolled": true
   },
   "outputs": [
    {
     "name": "stdout",
     "output_type": "stream",
     "text": [
      "640441.7201253088\n",
      "1.0944674687963784e-27\n"
     ]
    }
   ],
   "source": [
    "print(f_val_ls)\n",
    "print(f_val_gt)"
   ]
  },
  {
   "cell_type": "code",
   "execution_count": 26,
   "metadata": {},
   "outputs": [],
   "source": [
    "def detectionStats(problem, inliers):\n",
    "    num_outliers = len(problem['outliers'])\n",
    "    if num_outliers == 0:\n",
    "        true_positive_rate = 1\n",
    "        false_positive_rate = 0\n",
    "        precision = 1\n",
    "        recall = 1\n",
    "    else:\n",
    "        outliers = np.setdiff1d(np.arange(1, problem['N']+1), inliers)\n",
    "        true_inliers = np.setdiff1d(np.arange(1, problem['N']+1), np.union1d(problem['priors'], problem['outliers']))\n",
    "        if len(true_inliers) == 0:\n",
    "            true_positive_rate = 0\n",
    "            false_positive_rate = 0\n",
    "            precision = 0\n",
    "            recall = 0\n",
    "        else:\n",
    "            true_positive = np.intersect1d(problem['outliers'], outliers)\n",
    "            false_positive = np.intersect1d(true_inliers, outliers)\n",
    "            true_positive_rate = len(true_positive) / num_outliers\n",
    "            false_positive_rate = len(false_positive) / len(true_inliers)\n",
    "            precision = len(true_positive) / (len(true_positive) + len(false_positive))\n",
    "            recall = len(true_positive) / num_outliers\n",
    "    return true_positive_rate, false_positive_rate, precision, recall\n"
   ]
  },
  {
   "cell_type": "code",
   "execution_count": 27,
   "metadata": {},
   "outputs": [],
   "source": [
    "#tp, fp = detectionStats(problem, range(problem['N']))\n",
    "#results['ls']['stats'] = {'tp': tp, 'fp': fp}"
   ]
  },
  {
   "cell_type": "code",
   "execution_count": 28,
   "metadata": {},
   "outputs": [
    {
     "data": {
      "text/plain": [
       "(0.0, 0.024390243902439025, 0.0, 0.0)"
      ]
     },
     "execution_count": 28,
     "metadata": {},
     "output_type": "execute_result"
    }
   ],
   "source": [
    "detectionStats(problem, range(problem['N']))"
   ]
  },
  {
   "cell_type": "code",
   "execution_count": 29,
   "metadata": {},
   "outputs": [],
   "source": [
    "results['gt'] = {}\n",
    "results['gt']['algname'] = 'Ground-Truth';\n",
    "results['gt']['f_val'] = f_val_gt;\n",
    "#[results['gt'].stats.tp, results.gt.stats.fp] = detectionStats(problem, inliers_gt);\n",
    "results['gt']['iterations'] = 1;\n",
    "#results['gt']['time'] = runtime;"
   ]
  },
  {
   "cell_type": "code",
   "execution_count": 30,
   "metadata": {},
   "outputs": [
    {
     "name": "stdout",
     "output_type": "stream",
     "text": [
      "1.0944674687963784e-27\n",
      "640441.7201253088\n"
     ]
    }
   ],
   "source": [
    "print(results['gt']['f_val'])\n",
    "print(results['ls']['f_val'])"
   ]
  },
  {
   "cell_type": "code",
   "execution_count": 31,
   "metadata": {},
   "outputs": [],
   "source": [
    "def gncWeightsUpdate(weights, mu, residuals, barc2):\n",
    "    # GNC - GNC weights update for the TLS cost function\n",
    "    # Reference:\n",
    "    #    - \"Graduated Non-Convexity for Robust Spatial Perception: From Non-Minimal Solvers to Global Outlier Rejection\"\n",
    "    #      Yang, Antonante, Tzoumas, Carlone (2020). IEEE Robotics and Automation Letters (RA-L), 5(2), 1127–1134.\n",
    "    #      https://arxiv.org/pdf/1909.08605.pdf\n",
    "    #    - \"Outlier-Robust Estimation: Hardness, Minimally-Tuned Algorithms, and Applications\"\n",
    "    #      Antonante, Tzoumas, Yang, Carlone (2020).\n",
    "    #      https://arxiv.org/pdf/2007.15109.pdf\n",
    "\n",
    "    # Author: Pasquale Antonante\n",
    "    # email: antonap@mit.edu\n",
    "    # Date: 2021-01-06\n",
    "\n",
    "    th1 = (mu+1)/mu * barc2\n",
    "    th2 = (mu)/(mu+1) * barc2  # th1 > th2\n",
    "    \n",
    "    #print('th1 and th2 are: \\n', th1, th2)\n",
    "    \n",
    "    #display(np.shape(np.array(residuals)))\n",
    "    #display(np.size(np.array(residuals)))\n",
    "    \n",
    "    for k in range(np.size(residuals)):\n",
    "    #for k in range(np.shape(residuals)[1]):\n",
    "        #print('Residual[k]', residuals[k])\n",
    "        #residuals_k = np.squeeze(residuals[k])\n",
    "        #display(k, np.shape(residuals), np.shape(residuals[k]), np.shape(th1), np.shape(th2))\n",
    "        #display(residuals[k])\n",
    "        #display('Residuals[k] is: ', residuals[k])\n",
    "        if (residuals[k] - th1) >= 0:\n",
    "            weights[k] = 0\n",
    "            #print('residuals(k) - th1 >= 0: \\n', residuals[k], th1 )\n",
    "        elif (residuals[k] - th2) <= 0:\n",
    "            weights[k] = 1\n",
    "            #print('residuals(k) - th2 <= 0: \\n', residuals[k], th2 )\n",
    "        else:\n",
    "            weights[k] = math.sqrt( barc2*mu*(mu+1)/residuals[k] ) - mu\n",
    "            \n",
    "            #print('weights[k] = math.sqrt( barc2*mu*(mu+1)/residuals[k] ) - mu', residuals[k], weights[k])\n",
    "            assert 0 <= weights[k] <= 1, f'weights {weights[k]} calculation wrong!'\n",
    "    \n",
    "    #display(type(weights))\n",
    "\n",
    "    return weights, th1, th2\n"
   ]
  },
  {
   "cell_type": "code",
   "execution_count": 32,
   "metadata": {},
   "outputs": [],
   "source": [
    "import math  \n",
    "def gnc_vanilla(problem, f, **kwargs):\n",
    "    continuation_factor = kwargs.get('ContinuationFactor', 1.4)\n",
    "    initial_mu = kwargs.get('InitialMu', 'auto')\n",
    "    noise_bound = kwargs.get('NoiseBound', 0)\n",
    "    max_iterations = kwargs.get('MaxIterations', 1e3)\n",
    "    fix_priors_weights = kwargs.get('FixPriorsWeights', True)\n",
    "    cost_threshold = kwargs.get('CostThreshold', 0)\n",
    "    debug = kwargs.get('Debug', False)\n",
    "    init_ = kwargs.get('init_', 0)\n",
    "\n",
    "    max_iterations = int(max_iterations)\n",
    "\n",
    "    if debug:\n",
    "        residuals_history = []\n",
    "        weights_history = []\n",
    "\n",
    "    if 'init_' not in kwargs:\n",
    "        try:\n",
    "            _, f_info = f(problem)\n",
    "            #print('f(problem): ', f(problem))\n",
    "        except Exception as e:\n",
    "            print(f'Error message: {str(e)}')\n",
    "            raise Exception(\"Could not run the global solver\")\n",
    "        assert 'residuals' in f_info, 'f should compute residuals'\n",
    "    else:\n",
    "        f_info = kwargs['init_']\n",
    "\n",
    "    barc2 = noise_bound\n",
    "    weights = np.ones(problem['N'])\n",
    "    \n",
    "    #print('barc2 is: {}', barc2)\n",
    "    #print('Max of residuals: {}', np.max(f_info['residuals']))\n",
    "    #print('Residuals are: {}', f_info['residuals'])\n",
    "    #display(type(weights))\n",
    "    \n",
    "    \n",
    "    if isinstance(initial_mu, str) and initial_mu.lower() == 'auto':\n",
    "        mu = 1 / (2 * np.max(f_info['residuals']) / barc2 - 1 )\n",
    "        #display('mu = 1 / (2 * np.max(f_info[residuals]) / barc2 - 1 )')\n",
    "    elif isinstance(initial_mu, (int, float)):\n",
    "        mu = initial_mu\n",
    "    else:\n",
    "        raise ValueError('Invalid value for InitialMu')\n",
    "\n",
    "    prev_f_cost = 0\n",
    "\n",
    "    i = 1\n",
    "    info = {}\n",
    "    info['stopping'] = 'MaxIterations'  # Worst case stopping\n",
    "    info['status'] = 1  # worst case status: failure\n",
    "\n",
    "    while i < max_iterations:\n",
    "        if debug:\n",
    "            residuals_history.append(f_info['residuals'].tolist())\n",
    "            weights_history.append(weights.tolist())\n",
    "            \n",
    "        #print('mu is: {}',mu)\n",
    "        #print('f_info[residuals]')\n",
    "        #print(f_info['residuals'])\n",
    "        \n",
    "        weights, th1out, th2out = gncWeightsUpdate(weights, mu, f_info['residuals'], barc2)\n",
    "        #print('Weights after gnc algorithm')\n",
    "        #print(weights)\n",
    "        \n",
    "        #print(type(weights))\n",
    "        #print(type(list(weights)))\n",
    "        \n",
    "        if fix_priors_weights:\n",
    "            weights[problem['priors']] = 1\n",
    "        \n",
    "        try:\n",
    "            _, f_info = f(problem, Weights=weights)\n",
    "            #print('_, f_info = f(problem, Weights=weights)')\n",
    "            #print(weights)\n",
    "            \n",
    "        except Exception as e:\n",
    "            print(f'Error message: {str(e)}')\n",
    "            raise Exception(\"Could not run the global solver\")\n",
    "        \n",
    "        f_cost = np.sum(f_info['residuals'] * weights)\n",
    "        \n",
    "        cost_diff = np.abs(f_cost - prev_f_cost)\n",
    "        \n",
    "        prev_f_cost = f_cost\n",
    "\n",
    "        if (cost_diff < cost_threshold) or areBinaryWeights(weights):\n",
    "            if debug:\n",
    "                residuals_history.append(f_info['residuals'].tolist())\n",
    "                weights_history.append(weights.tolist())\n",
    "            info['residuals'] = f_info['residuals'].tolist()\n",
    "            info['stopping'] = 'CostThreshold'\n",
    "            info['status'] = 1\n",
    "            break\n",
    "        mu *= continuation_factor\n",
    "        i += 1\n",
    "    \n",
    "    \n",
    "    #print(np.where(weights > 1-2.2204e-16))\n",
    "    \n",
    "    inliers = np.where(weights > 1-2.2204e-16)[0].tolist()\n",
    "    \n",
    "    info['Iterations'] = i\n",
    "    info['params'] = kwargs\n",
    "    info['Algorithm'] = 'GNC'\n",
    "    if debug:\n",
    "        info['mu'] = mu\n",
    "        info['barc2History'] = np.repeat(barc2, i+1)\n",
    "        info['ResidualsHistory'] = residuals_history\n",
    "        info['WeightsHistory'] = weights_history\n",
    "        info['CostDiff'] = cost_diff\n",
    "        info['AreBinaryWeights'] = areBinaryWeights(weights)\n",
    "\n",
    "    return inliers, info\n"
   ]
  },
  {
   "cell_type": "code",
   "execution_count": 33,
   "metadata": {},
   "outputs": [],
   "source": [
    "def gnc(problem, f, **kwargs):\n",
    "    \"\"\"\n",
    "    %GNC - Graduated Non-Convexity\n",
    "    % Implementation of: \n",
    "    %    - \"Graduated Non-Convexity for Robust Spatial Perception: From Non-Minimal Solvers to Global Outlier Rejection\"\n",
    "    %      Yang, Antonante, Tzoumas, Carlone (2020). IEEE Robotics and Automation Letters (RA-L), 5(2), 1127–1134.\n",
    "    %      https://arxiv.org/pdf/1909.08605.pdf\n",
    "    %    - \"Outlier-Robust Estimation: Hardness, Minimally-Tuned Algorithms, and Applications\" \n",
    "    %      Antonante, Tzoumas, Yang, Carlone (2020).\n",
    "    %      https://arxiv.org/pdf/2007.15109.pdf\n",
    "    %\n",
    "    % Syntax:  [inliers, info] = gnc(problem, f, ...)\n",
    "    %\n",
    "    % Inputs:\n",
    "    %    problem - the stracture representing a generic problem (see EmptyProblem)\n",
    "    %    f - a function_handler of a non-minimal solver for problem\n",
    "    %\n",
    "    % Options:\n",
    "    %    - ContinuationFactor: continuation factor for mu\n",
    "    %    - InitialMu: initial mu (default: auto)\n",
    "    %    - NoiseBound: inlier threshold\n",
    "    %    - MaxIterations: maximum number of iterations\n",
    "    %    - FixPriorsWeights: fix priors weights to 1 across all iterations\n",
    "    %    - CostThreshold: if weighted sum of squared residuals is below this value, GNC stops\n",
    "    %    - Debug: whether or not to enable the debug information\n",
    "    %\n",
    "    % Outputs:\n",
    "    %    inliers - the indices of the inliers\n",
    "    %    info - structure containing extended information about the xecution\n",
    "    % \n",
    "    % Example:\n",
    "    %   problem = linearRegressionProblem(100, 0.8);\n",
    "    %   [inliers, info] = gnc(problem, @leastSquareNorm2, ...\n",
    "    %       'NoiseBound', chi2inv(0.99, problem.dof)*problem.MeasurementNoiseStd^2);\n",
    "\n",
    "    % Author: Pasquale Antonante\n",
    "    % email: antonap@mit.edu\n",
    "    % Date: 2021-01-06\n",
    "    \"\"\"\n",
    "    \n",
    "    #inliers = kwargs.get('Inliers', measurements)\n",
    "    #assert all(isinstance(elem, numbers.Number) for elem in inliers) and all(np.floor(inliers)==inliers), \"Inliers must be numeric and integers\"\n",
    "    #print(inliers)\n",
    "    #weights = kwargs.get('Weights', default_weights)\n",
    "    \n",
    "    \n",
    "    #params = inputParser;\n",
    "    #params.KeepUnmatched = true;\n",
    "    #params.addParameter('NoiseBound', 0, @(x) isscalar(x) && x>=0 && isfinite(x));\n",
    "    #arams.parse(varargin{:});\n",
    "    #start_t = now;\n",
    "    #if params.Results.NoiseBound > 0\n",
    "    #    [inliers, info] = gnc_vanilla(problem, f, varargin{:});\n",
    "    #else\n",
    "    #    error('You need to set the Noise Bound')\n",
    "    #end\n",
    "    #end_t = now;\n",
    "    \n",
    "    NoiseBound = kwargs.get('NoiseBound', 0)\n",
    "    assert(np.size(NoiseBound)==1 and NoiseBound >= 0 and np.isfinite(NoiseBound))\n",
    "    \n",
    "    assert isProblem(problem), 'The problem doesn''t contain required fields.'\n",
    "\n",
    "    start_t = datetime.datetime.now();\n",
    "    \n",
    "    if NoiseBound > 0:\n",
    "        [inliers, info] = gnc_vanilla(problem, f, **kwargs);\n",
    "    else:\n",
    "        ValueError('You need to set the Noise Bound')\n",
    "    \n",
    "    #print('Output of gnc_vanilla')\n",
    "    #print(inliers)\n",
    "    end_t = datetime.datetime.now();\n",
    "    \n",
    "    info = {}\n",
    "    info['time'] = (end_t - start_t) * 24 * 60 * 60; #% serial date number to sec\n",
    "    \n",
    "    return inliers, info\n",
    "    \n"
   ]
  },
  {
   "cell_type": "code",
   "execution_count": 34,
   "metadata": {},
   "outputs": [],
   "source": [
    "def areBinaryWeights(weights):\n",
    "    # Check the input vector is (approximately) a binary vector\n",
    "    flag = True\n",
    "    th = 1e-12\n",
    "    for i in range(len(weights)-1, -1, -1):\n",
    "        if weights[i] > th and abs(1 - weights[i]) > th:\n",
    "            flag = False\n",
    "            break\n",
    "    return flag"
   ]
  },
  {
   "cell_type": "code",
   "execution_count": 35,
   "metadata": {
    "scrolled": true
   },
   "outputs": [
    {
     "name": "stdout",
     "output_type": "stream",
     "text": [
      "  - GNC\n",
      "\n"
     ]
    }
   ],
   "source": [
    "print('  - GNC\\n')\n",
    "[inliers_gnc, info_gnc] = gnc(problem, problem['f'], NoiseBound=cfg['epsilon']);\n",
    "\n",
    "results['gnc'] = {}\n",
    "results['gnc']['algname'] = 'GNC';\n",
    "[f_val_gnc, info1_gnc] = leastSquareNorm2(problem, Inliers=inliers_gnc)\n",
    "\n",
    "results['gnc']['f_val'] = f_val_gnc\n",
    "\n",
    "#[results.gnc.stats.tp, results.gnc.stats.fp] = ...\n",
    "#    detectionStats(problem, inliers);\n",
    "\n"
   ]
  },
  {
   "cell_type": "code",
   "execution_count": 36,
   "metadata": {
    "scrolled": true
   },
   "outputs": [
    {
     "name": "stdout",
     "output_type": "stream",
     "text": [
      "640441.7201253088\n",
      "1.0944674687963784e-27\n",
      "1.0944674687963784e-27\n"
     ]
    }
   ],
   "source": [
    "print(results['ls']['f_val'])\n",
    "print(results['gt']['f_val'])\n",
    "print(results['gnc']['f_val'])"
   ]
  },
  {
   "cell_type": "code",
   "execution_count": 37,
   "metadata": {},
   "outputs": [
    {
     "name": "stdout",
     "output_type": "stream",
     "text": [
      "[4, 7, 9, 13, 14, 18, 24, 27, 28, 31, 32, 33, 34, 42, 45, 48, 50, 60, 61, 64, 65, 66, 67, 68, 69, 73, 74, 75, 77, 78, 83, 84, 85, 86, 87, 91, 92, 93, 94, 97]\n"
     ]
    }
   ],
   "source": [
    "print(inliers_gnc)"
   ]
  },
  {
   "cell_type": "code",
   "execution_count": 38,
   "metadata": {},
   "outputs": [
    {
     "name": "stdout",
     "output_type": "stream",
     "text": [
      "[ 4  7  9 13 14 18 24 27 28 31 32 33 34 42 45 48 50 60 61 64 65 66 67 68\n",
      " 69 73 74 75 77 78 83 84 85 86 87 91 92 93 94 97]\n"
     ]
    }
   ],
   "source": [
    "print(inliers_gt)"
   ]
  },
  {
   "cell_type": "code",
   "execution_count": 39,
   "metadata": {},
   "outputs": [
    {
     "name": "stdout",
     "output_type": "stream",
     "text": [
      "[ True  True  True  True  True  True  True  True  True  True  True  True\n",
      "  True  True  True  True  True  True  True  True  True  True  True  True\n",
      "  True  True  True  True  True  True  True  True  True  True  True  True\n",
      "  True  True  True  True]\n"
     ]
    }
   ],
   "source": [
    "print(inliers_gnc == inliers_gt)"
   ]
  },
  {
   "cell_type": "code",
   "execution_count": 40,
   "metadata": {
    "scrolled": true
   },
   "outputs": [
    {
     "name": "stdout",
     "output_type": "stream",
     "text": [
      "[[-6.91136557e+01  2.41710910e+01  9.91686209e+01 -2.57265892e+01\n",
      "   2.38697950e-15 -7.90494145e+01 -7.71225627e+01 -6.66133815e-16\n",
      "  -7.07236693e+01  0.00000000e+00  7.16817255e+01  4.74880580e+01\n",
      "  -9.68023489e+01 -3.10862447e-15  4.44089210e-15  4.86503923e+01\n",
      "  -7.98419054e+00 -9.11622665e+01  8.88178420e-16 -5.29135132e+01\n",
      "   5.03982926e+01 -2.65710486e+01  6.21226260e+01  4.31349442e+01\n",
      "   8.88178420e-16  7.96009726e+01  9.34501129e+01 -2.66453526e-15\n",
      "   4.44089210e-16 -9.24542605e+01  3.91223533e-01 -8.88178420e-16\n",
      "  -3.55271368e-15  6.10622664e-16 -6.21724894e-15 -4.26690657e+01\n",
      "   9.90374716e+01 -4.53841740e+01  4.04505956e+00  3.72177183e+01\n",
      "   5.16349270e+01 -6.95282691e+01  3.99680289e-15 -8.95923871e+01\n",
      "   9.52357913e+01 -3.77475828e-15 -5.10048480e+01  1.33867255e+01\n",
      "   6.66133815e-16  1.98392524e+00 -2.66453526e-15  2.24116904e+01\n",
      "  -3.19481819e+01  6.41044588e+01  8.42593623e+01 -9.78656580e+01\n",
      "   9.79256824e+01  5.46074761e+01 -8.40042410e+01 -4.67784577e+01\n",
      "  -2.33146835e-15  1.99840144e-15  5.65264103e+01  6.83002992e+01\n",
      "   3.99680289e-15 -6.66133815e-15  8.88178420e-16 -3.33066907e-15\n",
      "  -5.32907052e-15 -3.55271368e-15  8.94717214e+01 -4.07661136e+01\n",
      "  -3.39376679e+01 -5.55111512e-16  1.77635684e-15 -2.22044605e-15\n",
      "  -3.01551589e+01  1.77635684e-15  0.00000000e+00  8.74548668e+01\n",
      "   7.00121914e+01  5.24839682e+01  2.06037767e+00 -3.55271368e-15\n",
      "   4.44089210e-15 -1.66533454e-15  8.88178420e-16 -5.55111512e-15\n",
      "   1.87524291e+01  8.51991011e+01 -8.09117952e+00  2.22044605e-16\n",
      "  -1.33226763e-15 -3.55271368e-15  2.44249065e-15 -4.74339368e+01\n",
      "  -4.77728770e+01  0.00000000e+00 -3.80349262e+01 -2.22980320e+01]\n",
      " [-5.41411513e+01 -7.97369925e+01 -4.98524813e+01 -4.07072305e+01\n",
      "   1.77635684e-15  9.13138747e+01  9.13657219e+01  1.33226763e-15\n",
      "  -4.17410162e-02 -5.10702591e-15 -3.18120722e+01  2.49924531e+01\n",
      "  -4.02509509e+01  0.00000000e+00 -4.44089210e-15  1.59678439e+01\n",
      "   1.07299819e+01 -3.49105610e+01  2.44249065e-15 -2.67244311e+01\n",
      "  -1.43390182e+00 -3.84755682e+01  6.22190827e+01 -3.16522113e+00\n",
      "   3.55271368e-15  7.79595959e+01  1.07028613e+01  2.22044605e-15\n",
      "  -1.33226763e-15 -5.55759077e+01 -8.49644192e+01 -4.44089210e-15\n",
      "   2.66453526e-15 -8.88178420e-16  4.44089210e-15 -3.22678169e+01\n",
      "  -6.74653275e+01  4.36465062e+01  5.18678948e+01 -8.83965051e+01\n",
      "   7.37663131e+01 -2.88047753e+01 -3.10862447e-15 -2.55956098e+01\n",
      "   8.13466576e+01  3.55271368e-15  1.40505020e+01  2.21050925e+01\n",
      "   2.33146835e-15  7.64468270e+01 -3.55271368e-15  8.47904807e+01\n",
      "  -9.09407520e+01  9.90937575e+01 -3.85993928e+01  4.98384417e+01\n",
      "   9.96918663e+00  9.24602167e+01 -3.01784594e+00  4.62048424e+01\n",
      "   6.66133815e-16 -4.44089210e-15  1.46380745e+01  7.94147793e+01\n",
      "  -4.44089210e-16  6.21724894e-15  1.55431223e-15 -2.44249065e-15\n",
      "  -1.33226763e-15  1.55431223e-15  9.42264705e+01 -4.12249775e+00\n",
      "  -9.54592442e+00 -4.21884749e-15  5.32907052e-15 -4.21884749e-15\n",
      "   4.69218910e+01  1.11022302e-15 -3.10862447e-15 -1.93859286e+01\n",
      "  -8.09395115e+01 -8.93268209e+01  1.00700953e+02  3.83026943e-15\n",
      "   0.00000000e+00  4.44089210e-16 -2.22044605e-15  1.55431223e-15\n",
      "   8.64435485e+01 -7.46176154e+01 -7.86912592e+01 -4.88498131e-15\n",
      "  -2.44249065e-15 -4.44089210e-16 -1.77635684e-15 -3.00302774e+01\n",
      "  -5.34361882e+01  0.00000000e+00 -5.97351937e+01  5.52271911e+01]\n",
      " [-7.72450420e+01  8.46777094e+01  6.22112992e+01  3.78386802e+01\n",
      "   4.88498131e-15 -8.10531114e-01  7.45684222e+01  0.00000000e+00\n",
      "   4.71147681e+01 -3.33066907e-15 -5.72831546e+01  7.63429929e+01\n",
      "  -7.55087061e+01  5.32907052e-15  1.33226763e-15 -2.22425348e+01\n",
      "   1.89574023e+01 -7.21824356e+01 -5.55111512e-16 -3.46890030e+01\n",
      "   7.91279506e+01  8.97129230e+01  9.19161766e+01  2.45510693e+01\n",
      "  -4.44089210e-15 -4.28768449e+01  6.32659513e+01  1.77635684e-15\n",
      "  -2.22044605e-16  2.80074644e+01 -7.49982310e+01  5.32907052e-15\n",
      "   1.99840144e-15 -1.77635684e-15  2.88657986e-15 -3.44493413e+01\n",
      "   1.01491557e+02 -7.85094267e+01 -1.46089499e+01 -1.78125186e+01\n",
      "  -1.25738000e+01 -3.47469601e+01 -2.22044605e-16 -3.21422405e+01\n",
      "  -9.00245561e+01 -4.44089210e-15  9.83570892e+01 -4.01320617e+01\n",
      "  -1.77635684e-15 -7.57085614e+01 -2.99760217e-15 -5.30019445e+01\n",
      "   2.87683164e+01  9.28148409e+01  4.27478431e+01  7.54037101e+01\n",
      "  -8.79860100e+01  9.70664496e+01  7.74161421e+01 -9.03879511e+00\n",
      "  -2.22044605e-15  3.33066907e-15  5.02440318e+01 -7.18804967e+01\n",
      "   1.99840144e-15 -3.33066907e-15  1.55431223e-15  1.77635684e-15\n",
      "   1.33226763e-15 -5.10702591e-15  4.42945625e+01  4.10997405e+01\n",
      "   7.42364520e+00  2.99760217e-15 -2.66453526e-15 -1.55431223e-15\n",
      "  -4.33743120e+01  5.10702591e-15 -6.21724894e-15  7.74405958e+01\n",
      "   2.44190175e+01  2.32502175e+01  9.79751625e+01 -8.88178420e-16\n",
      "  -2.88657986e-15  1.33226763e-15  4.66293670e-15 -4.44089210e-16\n",
      "  -1.38550081e+00 -1.84516197e+01 -3.85024877e+01  1.55431223e-15\n",
      "   2.88657986e-15 -3.77475828e-15  1.77635684e-15  5.24013727e+01\n",
      "  -2.36352164e+01  0.00000000e+00  4.99866241e+01 -5.51755307e+01]]\n"
     ]
    }
   ],
   "source": [
    "print(info_gt['residues'])"
   ]
  },
  {
   "cell_type": "code",
   "execution_count": 41,
   "metadata": {
    "scrolled": true
   },
   "outputs": [
    {
     "name": "stdout",
     "output_type": "stream",
     "text": [
      "[1.36747582e+04 1.41125441e+04 1.61899310e+04 3.75070172e+03\n",
      " 3.27161572e-29 1.45876906e+04 1.98560344e+04 2.21867130e-30\n",
      " 7.22164052e+03 3.71750702e-29 9.43163751e+03 8.70799093e+03\n",
      " 1.66923985e+04 3.80625387e-29 4.12179823e-29 3.11656307e+03\n",
      " 5.38262914e+02 1.47396101e+04 7.06277029e-30 4.71736203e+03\n",
      " 8.80327654e+03 1.02347985e+04 1.61790184e+04 2.47339704e+03\n",
      " 3.31321580e-29 1.42524373e+04 1.28500554e+04 1.51855724e-29\n",
      " 2.02145607e-30 1.24208899e+04 1.28438403e+04 4.89093761e-29\n",
      " 2.37151310e-29 4.31716456e-30 6.67080503e-29 4.04861829e+03\n",
      " 2.46605273e+04 1.01284708e+04 2.92006243e+03 9.51638650e+03\n",
      " 8.26573508e+03 6.87124652e+03 2.56872832e-29 9.71505468e+03\n",
      " 2.37915554e+04 4.65920972e-29 1.24730281e+04 2.27842191e+03\n",
      " 9.03492256e-30 1.15798396e+04 2.87071414e-29 1.05009156e+04\n",
      " 1.01185227e+04 2.25435491e+04 1.04169313e+04 1.77472768e+04\n",
      " 1.74303619e+04 2.09527637e+04 1.30590790e+04 4.40481139e+03\n",
      " 1.08098596e-29 3.48084874e-29 5.93397101e+03 1.61384438e+04\n",
      " 2.01652569e-29 9.41209668e-29 5.62063395e-30 2.02145607e-29\n",
      " 3.19488667e-29 4.11193747e-29 1.88458249e+04 3.36805967e+03\n",
      " 1.29800049e+03 2.70924417e-29 3.86541844e-29 2.51449414e-29\n",
      " 4.99232841e+03 3.04697525e-29 4.83177304e-29 1.40212138e+04\n",
      " 1.20491999e+04 1.12744205e+04 1.97440596e+04 2.80815993e-29\n",
      " 2.80538659e-29 4.74549138e-30 2.74622203e-29 3.34279809e-29\n",
      " 7.82606028e+03 1.31671376e+04 7.74022301e+03 2.63282327e-29\n",
      " 1.60730409e-29 2.70677898e-29 1.22766478e-29 5.89769978e+03\n",
      " 5.69629744e+03 0.00000000e+00 7.51361157e+03 6.59158406e+03]\n"
     ]
    }
   ],
   "source": [
    "print(info_gt['residuals'])"
   ]
  },
  {
   "cell_type": "code",
   "execution_count": 42,
   "metadata": {
    "scrolled": true
   },
   "outputs": [
    {
     "name": "stdout",
     "output_type": "stream",
     "text": [
      "[1.36747582e+04 1.41125441e+04 1.61899310e+04 3.75070172e+03\n",
      " 3.27161572e-29 1.45876906e+04 1.98560344e+04 2.21867130e-30\n",
      " 7.22164052e+03 3.71750702e-29 9.43163751e+03 8.70799093e+03\n",
      " 1.66923985e+04 3.80625387e-29 4.12179823e-29 3.11656307e+03\n",
      " 5.38262914e+02 1.47396101e+04 7.06277029e-30 4.71736203e+03\n",
      " 8.80327654e+03 1.02347985e+04 1.61790184e+04 2.47339704e+03\n",
      " 3.31321580e-29 1.42524373e+04 1.28500554e+04 1.51855724e-29\n",
      " 2.02145607e-30 1.24208899e+04 1.28438403e+04 4.89093761e-29\n",
      " 2.37151310e-29 4.31716456e-30 6.67080503e-29 4.04861829e+03\n",
      " 2.46605273e+04 1.01284708e+04 2.92006243e+03 9.51638650e+03\n",
      " 8.26573508e+03 6.87124652e+03 2.56872832e-29 9.71505468e+03\n",
      " 2.37915554e+04 4.65920972e-29 1.24730281e+04 2.27842191e+03\n",
      " 9.03492256e-30 1.15798396e+04 2.87071414e-29 1.05009156e+04\n",
      " 1.01185227e+04 2.25435491e+04 1.04169313e+04 1.77472768e+04\n",
      " 1.74303619e+04 2.09527637e+04 1.30590790e+04 4.40481139e+03\n",
      " 1.08098596e-29 3.48084874e-29 5.93397101e+03 1.61384438e+04\n",
      " 2.01652569e-29 9.41209668e-29 5.62063395e-30 2.02145607e-29\n",
      " 3.19488667e-29 4.11193747e-29 1.88458249e+04 3.36805967e+03\n",
      " 1.29800049e+03 2.70924417e-29 3.86541844e-29 2.51449414e-29\n",
      " 4.99232841e+03 3.04697525e-29 4.83177304e-29 1.40212138e+04\n",
      " 1.20491999e+04 1.12744205e+04 1.97440596e+04 2.80815993e-29\n",
      " 2.80538659e-29 4.74549138e-30 2.74622203e-29 3.34279809e-29\n",
      " 7.82606028e+03 1.31671376e+04 7.74022301e+03 2.63282327e-29\n",
      " 1.60730409e-29 2.70677898e-29 1.22766478e-29 5.89769978e+03\n",
      " 5.69629744e+03 0.00000000e+00 7.51361157e+03 6.59158406e+03]\n"
     ]
    }
   ],
   "source": [
    "print(info_gt['residuals'])"
   ]
  },
  {
   "cell_type": "code",
   "execution_count": 43,
   "metadata": {},
   "outputs": [
    {
     "name": "stdout",
     "output_type": "stream",
     "text": [
      "Problem:\n",
      "\n",
      "Type: linear-estimation\n",
      "Measurements (N): 100\n",
      "Num. outliers (k):  60\n",
      "Num. priors:    0\n",
      "Num. possible outliers (|V|):  100\n",
      "   k/N: %.03f\n",
      " 0.6\n",
      "   k/|V|: %.03f\n",
      " 0.6\n",
      "  - Least-Square\n",
      "\n",
      "Solving with:\n",
      "\n",
      "  - Ground-Truth Least-Square...\n",
      "\n"
     ]
    }
   ],
   "source": [
    "num_samples = 100; #% how many measurements are available\n",
    "outliers_percentage = 0.6;\n",
    "\n",
    "problem = linearRegressionProblem(num_samples, outliers_percentage);\n",
    "\n",
    "problem = linearRegressionProblem(num_samples, outliers_percentage);\n",
    "problem['f'] = leastSquareNorm2;\n",
    "problem['MinMeasurements'] = 1;\n",
    "\n",
    "printProblemSummary(problem)\n",
    "\n",
    "print('  - Least-Square\\n')\n",
    "start_t = datetime.datetime.now();\n",
    "\n",
    "[f_val_ls, info_ls] = leastSquareNorm2(problem, Inliers =range(problem['N']));\n",
    "runtime = (datetime.datetime.now()-start_t)*24*60*60;\n",
    "\n",
    "print('Solving with:\\n')\n",
    "\n",
    "results = {}\n",
    "results['ls'] = {}\n",
    "results['ls']['algname'] = 'Least-Square'\n",
    "results['ls']['f_val'] = f_val_ls\n",
    "#tp, fp = detectionStats(problem, np.arange(1, problem['N']+1))\n",
    "#results['ls']['stats'] = {'tp': tp, 'fp': fp}\n",
    "results['ls']['iterations'] = 1\n",
    "results['ls']['time'] = runtime\n",
    "\n",
    "print('  - Ground-Truth Least-Square...\\n')\n",
    "inliers_gt = np.setdiff1d(range(problem['N']), problem['outliers']);\n",
    "\n",
    "start_t = datetime.datetime.now()\n",
    "f_val_gt,info_gt = leastSquareNorm2(problem, Inliers=list(inliers_gt))\n",
    "runtime = (datetime.datetime.now()-start_t)*24*60*60;"
   ]
  },
  {
   "cell_type": "code",
   "execution_count": 44,
   "metadata": {},
   "outputs": [
    {
     "name": "stdout",
     "output_type": "stream",
     "text": [
      "658438.0857378774\n",
      "4.8027824062118244e-27\n",
      "4.8027824062118244e-27\n",
      "658438.0857378774\n"
     ]
    }
   ],
   "source": [
    "print(f_val_ls)\n",
    "print(f_val_gt)\n",
    "\n",
    "results['gt'] = {}\n",
    "results['gt']['algname'] = 'Ground-Truth';\n",
    "results['gt']['f_val'] = f_val_gt;\n",
    "#[results['gt'].stats.tp, results.gt.stats.fp] = detectionStats(problem, inliers_gt);\n",
    "results['gt']['iterations'] = 1;\n",
    "#results['gt']['time'] = runtime;\n",
    "\n",
    "print(results['gt']['f_val'])\n",
    "print(results['ls']['f_val'])"
   ]
  },
  {
   "cell_type": "code",
   "execution_count": 45,
   "metadata": {},
   "outputs": [
    {
     "name": "stdout",
     "output_type": "stream",
     "text": [
      "  - GNC\n",
      "\n"
     ]
    }
   ],
   "source": [
    "print('  - GNC\\n')\n",
    "[inliers_gnc, info_gnc] = gnc(problem, problem['f'], NoiseBound=cfg['epsilon']);\n",
    "\n",
    "results['gnc'] = {}\n",
    "results['gnc']['algname'] = 'GNC';\n",
    "[f_val_gnc, info1_gnc] = leastSquareNorm2(problem, Inliers=inliers_gnc)\n",
    "\n",
    "results['gnc']['f_val'] = f_val_gnc\n",
    "\n",
    "#[results.gnc.stats.tp, results.gnc.stats.fp] = ...\n",
    "#    detectionStats(problem, inliers);\n",
    "\n"
   ]
  },
  {
   "cell_type": "code",
   "execution_count": 46,
   "metadata": {},
   "outputs": [
    {
     "name": "stdout",
     "output_type": "stream",
     "text": [
      "658438.0857378774\n",
      "4.8027824062118244e-27\n",
      "4.8027824062118244e-27\n"
     ]
    }
   ],
   "source": [
    "print(results['ls']['f_val'])\n",
    "print(results['gt']['f_val'])\n",
    "print(results['gnc']['f_val'])"
   ]
  },
  {
   "cell_type": "code",
   "execution_count": 47,
   "metadata": {},
   "outputs": [
    {
     "name": "stdout",
     "output_type": "stream",
     "text": [
      "Problem:\n",
      "\n",
      "Type: linear-estimation\n",
      "Measurements (N): 100\n",
      "Num. outliers (k):  70\n",
      "Num. priors:    0\n",
      "Num. possible outliers (|V|):  100\n",
      "   k/N: %.03f\n",
      " 0.7\n",
      "   k/|V|: %.03f\n",
      " 0.7\n",
      "  - Least-Square\n",
      "\n",
      "Solving with:\n",
      "\n",
      "  - Ground-Truth Least-Square...\n",
      "\n",
      "710832.4025112945\n",
      "1.724647154039437e-28\n",
      "1.724647154039437e-28\n",
      "710832.4025112945\n",
      "  - GNC\n",
      "\n"
     ]
    }
   ],
   "source": [
    "num_samples = 100; #% how many measurements are available\n",
    "outliers_percentage = 0.7;\n",
    "\n",
    "problem = linearRegressionProblem(num_samples, outliers_percentage);\n",
    "\n",
    "problem = linearRegressionProblem(num_samples, outliers_percentage);\n",
    "problem['f'] = leastSquareNorm2;\n",
    "problem['MinMeasurements'] = 1;\n",
    "\n",
    "printProblemSummary(problem)\n",
    "\n",
    "print('  - Least-Square\\n')\n",
    "start_t = datetime.datetime.now();\n",
    "\n",
    "[f_val_ls, info_ls] = leastSquareNorm2(problem, Inliers =range(problem['N']));\n",
    "runtime = (datetime.datetime.now()-start_t)*24*60*60;\n",
    "\n",
    "print('Solving with:\\n')\n",
    "\n",
    "results = {}\n",
    "results['ls'] = {}\n",
    "results['ls']['algname'] = 'Least-Square'\n",
    "results['ls']['f_val'] = f_val_ls\n",
    "#tp, fp = detectionStats(problem, np.arange(1, problem['N']+1))\n",
    "#results['ls']['stats'] = {'tp': tp, 'fp': fp}\n",
    "results['ls']['iterations'] = 1\n",
    "results['ls']['time'] = runtime\n",
    "\n",
    "print('  - Ground-Truth Least-Square...\\n')\n",
    "inliers_gt = np.setdiff1d(range(problem['N']), problem['outliers']);\n",
    "\n",
    "start_t = datetime.datetime.now()\n",
    "f_val_gt,info_gt = leastSquareNorm2(problem, Inliers=list(inliers_gt))\n",
    "runtime = (datetime.datetime.now()-start_t)*24*60*60;\n",
    "\n",
    "print(f_val_ls)\n",
    "print(f_val_gt)\n",
    "\n",
    "results['gt'] = {}\n",
    "results['gt']['algname'] = 'Ground-Truth';\n",
    "results['gt']['f_val'] = f_val_gt;\n",
    "#[results['gt'].stats.tp, results.gt.stats.fp] = detectionStats(problem, inliers_gt);\n",
    "results['gt']['iterations'] = 1;\n",
    "#results['gt']['time'] = runtime;\n",
    "\n",
    "print(results['gt']['f_val'])\n",
    "print(results['ls']['f_val'])\n",
    "\n",
    "print('  - GNC\\n')\n",
    "[inliers_gnc, info_gnc] = gnc(problem, problem['f'], NoiseBound=cfg['epsilon']);\n",
    "\n",
    "results['gnc'] = {}\n",
    "results['gnc']['algname'] = 'GNC';\n",
    "[f_val_gnc, info1_gnc] = leastSquareNorm2(problem, Inliers=inliers_gnc)\n",
    "\n",
    "results['gnc']['f_val'] = f_val_gnc\n",
    "\n",
    "#[results.gnc.stats.tp, results.gnc.stats.fp] = ...\n",
    "#    detectionStats(problem, inliers);\n",
    "\n"
   ]
  },
  {
   "cell_type": "code",
   "execution_count": 48,
   "metadata": {},
   "outputs": [
    {
     "name": "stdout",
     "output_type": "stream",
     "text": [
      "[1, 3, 11, 13, 17, 19, 20, 25, 26, 28, 39, 40, 42, 43, 45, 46, 50, 52, 54, 65, 67, 68, 69, 80, 82, 91, 92, 94, 95, 99]\n",
      "[ 1  3 11 13 17 19 20 25 26 28 39 40 42 43 45 46 50 52 54 65 67 68 69 80\n",
      " 82 91 92 94 95 99]\n",
      "[ True  True  True  True  True  True  True  True  True  True  True  True\n",
      "  True  True  True  True  True  True  True  True  True  True  True  True\n",
      "  True  True  True  True  True  True]\n",
      "710832.4025112945\n",
      "1.724647154039437e-28\n",
      "1.724647154039437e-28\n"
     ]
    }
   ],
   "source": [
    "print(inliers_gnc)\n",
    "print(inliers_gt)\n",
    "print(inliers_gnc == inliers_gt)\n",
    "print(results['ls']['f_val'])\n",
    "print(results['gt']['f_val'])\n",
    "print(results['gnc']['f_val'])"
   ]
  },
  {
   "cell_type": "code",
   "execution_count": 49,
   "metadata": {},
   "outputs": [
    {
     "name": "stdout",
     "output_type": "stream",
     "text": [
      "Problem:\n",
      "\n",
      "Type: linear-estimation\n",
      "Measurements (N): 100\n",
      "Num. outliers (k):  80\n",
      "Num. priors:    0\n",
      "Num. possible outliers (|V|):  100\n",
      "   k/N: %.03f\n",
      " 0.8\n",
      "   k/|V|: %.03f\n",
      " 0.8\n",
      "  - Least-Square\n",
      "\n",
      "Solving with:\n",
      "\n",
      "  - Ground-Truth Least-Square...\n",
      "\n",
      "706068.0528464385\n",
      "5.789376227707141e-28\n",
      "5.789376227707141e-28\n",
      "706068.0528464385\n",
      "  - GNC\n",
      "\n"
     ]
    }
   ],
   "source": [
    "num_samples = 100; #% how many measurements are available\n",
    "outliers_percentage = 0.8;\n",
    "\n",
    "problem = linearRegressionProblem(num_samples, outliers_percentage);\n",
    "\n",
    "problem = linearRegressionProblem(num_samples, outliers_percentage);\n",
    "problem['f'] = leastSquareNorm2;\n",
    "problem['MinMeasurements'] = 1;\n",
    "\n",
    "printProblemSummary(problem)\n",
    "\n",
    "print('  - Least-Square\\n')\n",
    "start_t = datetime.datetime.now();\n",
    "\n",
    "[f_val_ls, info_ls] = leastSquareNorm2(problem, Inliers =range(problem['N']));\n",
    "runtime = (datetime.datetime.now()-start_t)*24*60*60;\n",
    "\n",
    "print('Solving with:\\n')\n",
    "\n",
    "results = {}\n",
    "results['ls'] = {}\n",
    "results['ls']['algname'] = 'Least-Square'\n",
    "results['ls']['f_val'] = f_val_ls\n",
    "#tp, fp = detectionStats(problem, np.arange(1, problem['N']+1))\n",
    "#results['ls']['stats'] = {'tp': tp, 'fp': fp}\n",
    "results['ls']['iterations'] = 1\n",
    "results['ls']['time'] = runtime\n",
    "\n",
    "print('  - Ground-Truth Least-Square...\\n')\n",
    "inliers_gt = np.setdiff1d(range(problem['N']), problem['outliers']);\n",
    "\n",
    "start_t = datetime.datetime.now()\n",
    "f_val_gt,info_gt = leastSquareNorm2(problem, Inliers=list(inliers_gt))\n",
    "runtime = (datetime.datetime.now()-start_t)*24*60*60;\n",
    "\n",
    "print(f_val_ls)\n",
    "print(f_val_gt)\n",
    "\n",
    "results['gt'] = {}\n",
    "results['gt']['algname'] = 'Ground-Truth';\n",
    "results['gt']['f_val'] = f_val_gt;\n",
    "#[results['gt'].stats.tp, results.gt.stats.fp] = detectionStats(problem, inliers_gt);\n",
    "results['gt']['iterations'] = 1;\n",
    "#results['gt']['time'] = runtime;\n",
    "\n",
    "print(results['gt']['f_val'])\n",
    "print(results['ls']['f_val'])\n",
    "\n",
    "print('  - GNC\\n')\n",
    "[inliers_gnc, info_gnc] = gnc(problem, problem['f'], NoiseBound=cfg['epsilon']);\n",
    "\n",
    "results['gnc'] = {}\n",
    "results['gnc']['algname'] = 'GNC';\n",
    "[f_val_gnc, info1_gnc] = leastSquareNorm2(problem, Inliers=inliers_gnc)\n",
    "\n",
    "results['gnc']['f_val'] = f_val_gnc\n",
    "\n",
    "#[results.gnc.stats.tp, results.gnc.stats.fp] = ...\n",
    "#    detectionStats(problem, inliers);\n",
    "\n"
   ]
  },
  {
   "cell_type": "code",
   "execution_count": 50,
   "metadata": {},
   "outputs": [
    {
     "name": "stdout",
     "output_type": "stream",
     "text": [
      "[0, 4, 11, 15, 17, 19, 20, 26, 36, 48, 73, 75, 76, 80, 81, 83, 87, 91, 93, 99]\n",
      "[ 0  4 11 15 17 19 20 26 36 48 73 75 76 80 81 83 87 91 93 99]\n",
      "[ True  True  True  True  True  True  True  True  True  True  True  True\n",
      "  True  True  True  True  True  True  True  True]\n",
      "706068.0528464385\n",
      "5.789376227707141e-28\n",
      "5.789376227707141e-28\n"
     ]
    }
   ],
   "source": [
    "print(inliers_gnc)\n",
    "print(inliers_gt)\n",
    "print(inliers_gnc == inliers_gt)\n",
    "print(results['ls']['f_val'])\n",
    "print(results['gt']['f_val'])\n",
    "print(results['gnc']['f_val'])"
   ]
  },
  {
   "cell_type": "code",
   "execution_count": 51,
   "metadata": {},
   "outputs": [
    {
     "name": "stdout",
     "output_type": "stream",
     "text": [
      "Problem:\n",
      "\n",
      "Type: linear-estimation\n",
      "Measurements (N): 100\n",
      "Num. outliers (k):  90\n",
      "Num. priors:    0\n",
      "Num. possible outliers (|V|):  100\n",
      "   k/N: %.03f\n",
      " 0.9\n",
      "   k/|V|: %.03f\n",
      " 0.9\n",
      "  - Least-Square\n",
      "\n",
      "Solving with:\n",
      "\n",
      "  - Ground-Truth Least-Square...\n",
      "\n",
      "976283.552297634\n",
      "1.7961376735750913e-28\n",
      "1.7961376735750913e-28\n",
      "976283.552297634\n",
      "  - GNC\n",
      "\n"
     ]
    }
   ],
   "source": [
    "num_samples = 100; #% how many measurements are available\n",
    "outliers_percentage = 0.9;\n",
    "\n",
    "problem = linearRegressionProblem(num_samples, outliers_percentage);\n",
    "\n",
    "problem = linearRegressionProblem(num_samples, outliers_percentage);\n",
    "problem['f'] = leastSquareNorm2;\n",
    "problem['MinMeasurements'] = 1;\n",
    "\n",
    "printProblemSummary(problem)\n",
    "\n",
    "print('  - Least-Square\\n')\n",
    "start_t = datetime.datetime.now();\n",
    "\n",
    "[f_val_ls, info_ls] = leastSquareNorm2(problem, Inliers =range(problem['N']));\n",
    "runtime = (datetime.datetime.now()-start_t)*24*60*60;\n",
    "\n",
    "print('Solving with:\\n')\n",
    "\n",
    "results = {}\n",
    "results['ls'] = {}\n",
    "results['ls']['algname'] = 'Least-Square'\n",
    "results['ls']['f_val'] = f_val_ls\n",
    "#tp, fp = detectionStats(problem, np.arange(1, problem['N']+1))\n",
    "#results['ls']['stats'] = {'tp': tp, 'fp': fp}\n",
    "results['ls']['iterations'] = 1\n",
    "results['ls']['time'] = runtime\n",
    "\n",
    "print('  - Ground-Truth Least-Square...\\n')\n",
    "inliers_gt = np.setdiff1d(range(problem['N']), problem['outliers']);\n",
    "\n",
    "start_t = datetime.datetime.now()\n",
    "f_val_gt,info_gt = leastSquareNorm2(problem, Inliers=list(inliers_gt))\n",
    "runtime = (datetime.datetime.now()-start_t)*24*60*60;\n",
    "\n",
    "print(f_val_ls)\n",
    "print(f_val_gt)\n",
    "\n",
    "results['gt'] = {}\n",
    "results['gt']['algname'] = 'Ground-Truth';\n",
    "results['gt']['f_val'] = f_val_gt;\n",
    "#[results['gt'].stats.tp, results.gt.stats.fp] = detectionStats(problem, inliers_gt);\n",
    "results['gt']['iterations'] = 1;\n",
    "#results['gt']['time'] = runtime;\n",
    "\n",
    "print(results['gt']['f_val'])\n",
    "print(results['ls']['f_val'])\n",
    "\n",
    "print('  - GNC\\n')\n",
    "[inliers_gnc, info_gnc] = gnc(problem, problem['f'], NoiseBound=cfg['epsilon']);\n",
    "\n",
    "results['gnc'] = {}\n",
    "results['gnc']['algname'] = 'GNC';\n",
    "[f_val_gnc, info1_gnc] = leastSquareNorm2(problem, Inliers=inliers_gnc)\n",
    "\n",
    "results['gnc']['f_val'] = f_val_gnc\n",
    "\n",
    "#[results.gnc.stats.tp, results.gnc.stats.fp] = ...\n",
    "#    detectionStats(problem, inliers);\n",
    "\n"
   ]
  },
  {
   "cell_type": "code",
   "execution_count": 52,
   "metadata": {},
   "outputs": [
    {
     "name": "stdout",
     "output_type": "stream",
     "text": [
      "[20, 38, 43, 47, 54, 67, 80, 91, 94, 98]\n",
      "[20 38 43 47 54 67 80 91 94 98]\n",
      "[ True  True  True  True  True  True  True  True  True  True]\n",
      "976283.552297634\n",
      "1.7961376735750913e-28\n",
      "1.7961376735750913e-28\n"
     ]
    }
   ],
   "source": [
    "print(inliers_gnc)\n",
    "print(inliers_gt)\n",
    "print(inliers_gnc == inliers_gt)\n",
    "print(results['ls']['f_val'])\n",
    "print(results['gt']['f_val'])\n",
    "print(results['gnc']['f_val'])"
   ]
  },
  {
   "cell_type": "code",
   "execution_count": 53,
   "metadata": {
    "scrolled": true
   },
   "outputs": [
    {
     "name": "stdout",
     "output_type": "stream",
     "text": [
      "Problem:\n",
      "\n",
      "Type: linear-estimation\n",
      "Measurements (N): 100\n",
      "Num. outliers (k):  60\n",
      "Num. priors:    0\n",
      "Num. possible outliers (|V|):  100\n",
      "   k/N: %.03f\n",
      " 0.6\n",
      "   k/|V|: %.03f\n",
      " 0.6\n",
      "  - Least-Square\n",
      "\n",
      "Solving with:\n",
      "\n",
      "  - Ground-Truth Least-Square...\n",
      "\n",
      "569896.3143943279\n",
      "7.211831106776621e-27\n",
      "7.211831106776621e-27\n",
      "569896.3143943279\n",
      "  - GNC\n",
      "\n"
     ]
    }
   ],
   "source": [
    "num_samples = 100; #% how many measurements are available\n",
    "outliers_percentage = 0.6;\n",
    "\n",
    "problem = linearRegressionProblem(num_samples, outliers_percentage);\n",
    "\n",
    "problem = linearRegressionProblem(num_samples, outliers_percentage);\n",
    "problem['f'] = leastSquareNorm2;\n",
    "problem['MinMeasurements'] = 1;\n",
    "\n",
    "printProblemSummary(problem)\n",
    "\n",
    "print('  - Least-Square\\n')\n",
    "start_t = datetime.datetime.now();\n",
    "\n",
    "[f_val_ls, info_ls] = leastSquareNorm2(problem, Inliers =range(problem['N']));\n",
    "runtime = (datetime.datetime.now()-start_t)*24*60*60;\n",
    "\n",
    "print('Solving with:\\n')\n",
    "\n",
    "results = {}\n",
    "results['ls'] = {}\n",
    "results['ls']['algname'] = 'Least-Square'\n",
    "results['ls']['f_val'] = f_val_ls\n",
    "#tp, fp = detectionStats(problem, np.arange(1, problem['N']+1))\n",
    "#results['ls']['stats'] = {'tp': tp, 'fp': fp}\n",
    "results['ls']['iterations'] = 1\n",
    "results['ls']['time'] = runtime\n",
    "\n",
    "print('  - Ground-Truth Least-Square...\\n')\n",
    "inliers_gt = np.setdiff1d(range(problem['N']), problem['outliers']);\n",
    "\n",
    "start_t = datetime.datetime.now()\n",
    "f_val_gt,info_gt = leastSquareNorm2(problem, Inliers=list(inliers_gt))\n",
    "runtime = (datetime.datetime.now()-start_t)*24*60*60;\n",
    "\n",
    "print(f_val_ls)\n",
    "print(f_val_gt)\n",
    "\n",
    "results['gt'] = {}\n",
    "results['gt']['algname'] = 'Ground-Truth';\n",
    "results['gt']['f_val'] = f_val_gt;\n",
    "#[results['gt'].stats.tp, results.gt.stats.fp] = detectionStats(problem, inliers_gt);\n",
    "results['gt']['iterations'] = 1;\n",
    "#results['gt']['time'] = runtime;\n",
    "\n",
    "print(results['gt']['f_val'])\n",
    "print(results['ls']['f_val'])\n",
    "\n",
    "print('  - GNC\\n')\n",
    "[inliers_gnc, info_gnc] = gnc(problem, problem['f'], NoiseBound=cfg['epsilon']);\n",
    "\n",
    "results['gnc'] = {}\n",
    "results['gnc']['algname'] = 'GNC';\n",
    "[f_val_gnc, info1_gnc] = leastSquareNorm2(problem, Inliers=inliers_gnc)\n",
    "\n",
    "results['gnc']['f_val'] = f_val_gnc\n",
    "\n",
    "#[results.gnc.stats.tp, results.gnc.stats.fp] = ...\n",
    "#    detectionStats(problem, inliers);\n",
    "\n"
   ]
  },
  {
   "cell_type": "code",
   "execution_count": 54,
   "metadata": {},
   "outputs": [
    {
     "name": "stdout",
     "output_type": "stream",
     "text": [
      "[1, 12, 15, 20, 21, 23, 25, 26, 27, 30, 31, 34, 35, 36, 37, 38, 40, 42, 46, 49, 50, 51, 52, 54, 55, 57, 61, 67, 68, 69, 70, 75, 81, 82, 87, 88, 90, 92, 96, 98]\n",
      "[ 1 12 15 20 21 23 25 26 27 30 31 34 35 36 37 38 40 42 46 49 50 51 52 54\n",
      " 55 57 61 67 68 69 70 75 81 82 87 88 90 92 96 98]\n",
      "[ True  True  True  True  True  True  True  True  True  True  True  True\n",
      "  True  True  True  True  True  True  True  True  True  True  True  True\n",
      "  True  True  True  True  True  True  True  True  True  True  True  True\n",
      "  True  True  True  True]\n",
      "569896.3143943279\n",
      "7.211831106776621e-27\n",
      "7.211831106776621e-27\n"
     ]
    }
   ],
   "source": [
    "print(inliers_gnc)\n",
    "print(inliers_gt)\n",
    "print(inliers_gnc == inliers_gt)\n",
    "print(results['ls']['f_val'])\n",
    "print(results['gt']['f_val'])\n",
    "print(results['gnc']['f_val'])"
   ]
  },
  {
   "cell_type": "code",
   "execution_count": 55,
   "metadata": {},
   "outputs": [
    {
     "name": "stdout",
     "output_type": "stream",
     "text": [
      "Problem:\n",
      "\n",
      "Type: linear-estimation\n",
      "Measurements (N): 100\n",
      "Num. outliers (k):  50\n",
      "Num. priors:    0\n",
      "Num. possible outliers (|V|):  100\n",
      "   k/N: %.03f\n",
      " 0.5\n",
      "   k/|V|: %.03f\n",
      " 0.5\n",
      "  - Least-Square\n",
      "\n",
      "Solving with:\n",
      "\n",
      "  - Ground-Truth Least-Square...\n",
      "\n",
      "502029.81877287827\n",
      "1.1329282897857913e-27\n",
      "1.1329282897857913e-27\n",
      "502029.81877287827\n",
      "  - GNC\n",
      "\n"
     ]
    }
   ],
   "source": [
    "num_samples = 100; #% how many measurements are available\n",
    "outliers_percentage = 0.5;\n",
    "\n",
    "problem = linearRegressionProblem(num_samples, outliers_percentage);\n",
    "\n",
    "problem = linearRegressionProblem(num_samples, outliers_percentage);\n",
    "problem['f'] = leastSquareNorm2;\n",
    "problem['MinMeasurements'] = 1;\n",
    "\n",
    "printProblemSummary(problem)\n",
    "\n",
    "print('  - Least-Square\\n')\n",
    "start_t = datetime.datetime.now();\n",
    "\n",
    "[f_val_ls, info_ls] = leastSquareNorm2(problem, Inliers =range(problem['N']));\n",
    "runtime = (datetime.datetime.now()-start_t)*24*60*60;\n",
    "\n",
    "print('Solving with:\\n')\n",
    "\n",
    "results = {}\n",
    "results['ls'] = {}\n",
    "results['ls']['algname'] = 'Least-Square'\n",
    "results['ls']['f_val'] = f_val_ls\n",
    "#tp, fp = detectionStats(problem, np.arange(1, problem['N']+1))\n",
    "#results['ls']['stats'] = {'tp': tp, 'fp': fp}\n",
    "results['ls']['iterations'] = 1\n",
    "results['ls']['time'] = runtime\n",
    "\n",
    "print('  - Ground-Truth Least-Square...\\n')\n",
    "inliers_gt = np.setdiff1d(range(problem['N']), problem['outliers']);\n",
    "\n",
    "start_t = datetime.datetime.now()\n",
    "f_val_gt,info_gt = leastSquareNorm2(problem, Inliers=list(inliers_gt))\n",
    "runtime = (datetime.datetime.now()-start_t)*24*60*60;\n",
    "\n",
    "print(f_val_ls)\n",
    "print(f_val_gt)\n",
    "\n",
    "results['gt'] = {}\n",
    "results['gt']['algname'] = 'Ground-Truth';\n",
    "results['gt']['f_val'] = f_val_gt;\n",
    "#[results['gt'].stats.tp, results.gt.stats.fp] = detectionStats(problem, inliers_gt);\n",
    "results['gt']['iterations'] = 1;\n",
    "#results['gt']['time'] = runtime;\n",
    "\n",
    "print(results['gt']['f_val'])\n",
    "print(results['ls']['f_val'])\n",
    "\n",
    "print('  - GNC\\n')\n",
    "[inliers_gnc, info_gnc] = gnc(problem, problem['f'], NoiseBound=cfg['epsilon']);\n",
    "\n",
    "results['gnc'] = {}\n",
    "results['gnc']['algname'] = 'GNC';\n",
    "[f_val_gnc, info1_gnc] = leastSquareNorm2(problem, Inliers=inliers_gnc)\n",
    "\n",
    "results['gnc']['f_val'] = f_val_gnc\n",
    "\n",
    "#[results.gnc.stats.tp, results.gnc.stats.fp] = ...\n",
    "#    detectionStats(problem, inliers);\n",
    "\n"
   ]
  },
  {
   "cell_type": "code",
   "execution_count": 56,
   "metadata": {
    "scrolled": true
   },
   "outputs": [
    {
     "name": "stdout",
     "output_type": "stream",
     "text": [
      "[1, 2, 3, 5, 7, 8, 9, 10, 11, 12, 16, 20, 24, 25, 34, 38, 39, 40, 42, 44, 45, 46, 47, 48, 50, 51, 53, 54, 60, 61, 66, 68, 72, 75, 76, 78, 79, 80, 83, 84, 85, 86, 87, 89, 91, 92, 93, 95, 96, 99]\n",
      "[ 1  2  3  5  7  8  9 10 11 12 16 20 24 25 34 38 39 40 42 44 45 46 47 48\n",
      " 50 51 53 54 60 61 66 68 72 75 76 78 79 80 83 84 85 86 87 89 91 92 93 95\n",
      " 96 99]\n",
      "[ True  True  True  True  True  True  True  True  True  True  True  True\n",
      "  True  True  True  True  True  True  True  True  True  True  True  True\n",
      "  True  True  True  True  True  True  True  True  True  True  True  True\n",
      "  True  True  True  True  True  True  True  True  True  True  True  True\n",
      "  True  True]\n",
      "502029.81877287827\n",
      "1.1329282897857913e-27\n",
      "1.1329282897857913e-27\n"
     ]
    }
   ],
   "source": [
    "print(inliers_gnc)\n",
    "print(inliers_gt)\n",
    "print(inliers_gnc == inliers_gt)\n",
    "print(results['ls']['f_val'])\n",
    "print(results['gt']['f_val'])\n",
    "print(results['gnc']['f_val'])"
   ]
  },
  {
   "cell_type": "code",
   "execution_count": null,
   "metadata": {},
   "outputs": [],
   "source": []
  }
 ],
 "metadata": {
  "kernelspec": {
   "display_name": "Python 3",
   "language": "python",
   "name": "python3"
  },
  "language_info": {
   "codemirror_mode": {
    "name": "ipython",
    "version": 3
   },
   "file_extension": ".py",
   "mimetype": "text/x-python",
   "name": "python",
   "nbconvert_exporter": "python",
   "pygments_lexer": "ipython3",
   "version": "3.7.6"
  }
 },
 "nbformat": 4,
 "nbformat_minor": 4
}

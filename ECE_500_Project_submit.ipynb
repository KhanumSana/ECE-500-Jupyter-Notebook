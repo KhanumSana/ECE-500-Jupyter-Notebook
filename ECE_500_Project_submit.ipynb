{
 "cells": [
  {
   "cell_type": "code",
   "execution_count": 1,
   "metadata": {},
   "outputs": [],
   "source": [
    "import numpy as np\n",
    "import random\n",
    "#np.random.seed(123)"
   ]
  },
  {
   "cell_type": "code",
   "execution_count": 2,
   "metadata": {},
   "outputs": [],
   "source": [
    "def areBinaryWeights(weights):\n",
    "    flag = True\n",
    "    th = 1e-12\n",
    "    for i in range(np.shape(weights),-1,-1):\n",
    "        if(weights[i] > th and (1-weights[i])>th):\n",
    "            flag = false\n",
    "            break\n",
    "            \n",
    "    return flag"
   ]
  },
  {
   "cell_type": "code",
   "execution_count": 3,
   "metadata": {},
   "outputs": [],
   "source": [
    "import uuid\n",
    "import datetime\n",
    "\n",
    "def empty_problem():\n",
    "    problem = {}\n",
    "    problem['type'] = 'None'\n",
    "    problem['N'] = 0\n",
    "    problem['outliers'] = []\n",
    "    problem['priors'] = []\n",
    "    problem['dof'] = 0\n",
    "    #problem['time'] = now\n",
    "    problem['time'] = datetime.datetime.now()\n",
    "    # Unique identifier\n",
    "    problem['uuid'] = uuid.uuid4().hex\n",
    "    return problem\n",
    "    "
   ]
  },
  {
   "cell_type": "code",
   "execution_count": 4,
   "metadata": {},
   "outputs": [],
   "source": [
    "def isProblem(problem):\n",
    "    mandatory_fields = {'type', 'N', 'outliers', 'priors', 'dof'}\n",
    "    #flag = all(isfield(problem, mandatory_fields))\n",
    "    flag = all(field in problem for field in mandatory_fields)\n",
    "    #flag = all(field in problem for field in mandatory_fields)\n",
    "    return flag"
   ]
  },
  {
   "cell_type": "code",
   "execution_count": 5,
   "metadata": {},
   "outputs": [],
   "source": [
    "def rand_in(n,m, interval):\n",
    "    a = interval[0]\n",
    "    b = interval[1]\n",
    "    r = a + (b-a)*np.random. rand(n,m)\n",
    "    \n",
    "    return r"
   ]
  },
  {
   "cell_type": "code",
   "execution_count": 6,
   "metadata": {},
   "outputs": [],
   "source": [
    "def randn_in(n,m, interval):\n",
    "    a = interval[0]\n",
    "    b = interval[1]\n",
    "    r = a + (b-a)*np.random.randn(n,m)\n",
    "    return r"
   ]
  },
  {
   "cell_type": "code",
   "execution_count": 7,
   "metadata": {},
   "outputs": [],
   "source": [
    "from numpy.linalg import matrix_rank\n",
    "import random\n",
    "\n",
    "def random_matrix(n, m, desired_rank):\n",
    "    max_rank = min(n, m)\n",
    "    if desired_rank==None:\n",
    "        desired_rank = max_rank\n",
    "    assert desired_rank<=max_rank, 'Cannot generate a matrix a random matrix with the desired rank'\n",
    "    M = 3*np.random.rand(n, m)\n",
    "    while matrix_rank(M) < max_rank and matrix_rank(M) > 0:\n",
    "        M = rand_in(n, m, [-1, 1])\n",
    "    rank_M = matrix_rank(M)\n",
    "    \n",
    "    if rank_M != desired_rank:\n",
    "        col_perm = random.sample(range(m), rank_M - desired_rank + 1)\n",
    "        for i in range(rank_M-desired_rank+1):\n",
    "                M[:, col_perm[0]] = M[:, col_perm[i]]\n",
    "    return M"
   ]
  },
  {
   "cell_type": "code",
   "execution_count": null,
   "metadata": {},
   "outputs": [],
   "source": []
  },
  {
   "cell_type": "code",
   "execution_count": 8,
   "metadata": {},
   "outputs": [],
   "source": [
    "def gncWeightsUpdate(weights, mu, residuals, barc2):\n",
    "    th1 = (mu+1)/mu*barc2\n",
    "    th2 = (mu)/(mu+1)*barc2\n",
    "    #print('mu is: ', mu)\n",
    "    #print('th1 is: ', th1)\n",
    "    #print('th2 is: ', th2)\n",
    "    \n",
    "    for k in range(np.shape(residuals)):\n",
    "        if residuals[k] - th1 >=0:\n",
    "            weights[k] = 0\n",
    "        elif residuals[k] - th2 <=0:\n",
    "            weights[k] = 1\n",
    "        else:\n",
    "            weights[k] = np.sqrt(barc2*mu*(mu+1)/residuals[k]) - mu\n",
    "            #assert weights[k] >=0 and weights[k] <=1, 'weights calculation wrong!', weights(k)\n",
    "            assert weights[k] >=0 and weights[k] <=1, 'weights calculation wrong!'\n",
    "  \n",
    "    return weights, th1, th2     \n",
    "    "
   ]
  },
  {
   "cell_type": "code",
   "execution_count": 9,
   "metadata": {},
   "outputs": [],
   "source": [
    "from scipy import sparse\n",
    "from scipy.sparse.linalg import spsolve\n",
    "import numpy as np\n",
    "import numbers\n",
    "import random\n",
    "from scipy.stats import chi2"
   ]
  },
  {
   "cell_type": "code",
   "execution_count": 10,
   "metadata": {},
   "outputs": [],
   "source": [
    "def linearRegressionProblem(N, outliers_percentage, **kwargs):\n",
    "    \n",
    "    StateDimension = kwargs.get('StateDimension', 3)\n",
    "    #print(StateDimension, type(StateDimension))\n",
    "    #print(isinstance(StateDimension, numbers.Number))\n",
    "    #print(np.size(StateDimension), np.size(StateDimension)==1) \n",
    "    #print(StateDimension >=1) \n",
    "    \n",
    "    assert isinstance(StateDimension, numbers.Number) and np.size(StateDimension)==1 and StateDimension >=1, 'StateDimension must be numeric, scalar, and >=1'\n",
    "    \n",
    "    MeasurementDimension = kwargs.get('MeasurementDimension', 3)\n",
    "    assert isinstance(MeasurementDimension, numbers.Number) and np.size(MeasurementDimension)==1 and np.array(MeasurementDimension)>=1, 'MeasurementDimension must be numeric, scalar, and >=1'\n",
    "    \n",
    "    StateMeanandStd = kwargs.get('StateMeanAndStd', [1,1])\n",
    "    assert all(isinstance(elem, numbers.Number) for elem in StateMeanandStd) and np.size(StateMeanandStd)==2 and all(np.array(StateMeanandStd) >=0), 'StateMeanandStd should be numeric, vector of length 2, and >=0'\n",
    "    \n",
    "    MeasurementNoiseStd = kwargs.get('MeasurementNoiseStd', 0.1)\n",
    "    assert isinstance(MeasurementNoiseStd, numbers.Number) and np.size(MeasurementNoiseStd)==1 and MeasurementNoiseStd>0\n",
    "    \n",
    "    OutlierSpace = kwargs.get('OutlierSpace', [-100, 100])\n",
    "    assert all(isinstance(elem, numbers.Number) for elem in OutlierSpace) and np.size(OutlierSpace)==2 and np.array(OutlierSpace[0]) <= np.array(OutlierSpace[1]), 'OutlierSpace must be numeric, vector of length 2, and OutlierSpace[0] < OutlierSpace[1]'\n",
    "    \n",
    "    if kwargs==None:\n",
    "        outliers_percentage = 0\n",
    "        \n",
    "    problem = empty_problem()\n",
    "    problem['N'] = N\n",
    "    problem['StateDimension'] = StateDimension\n",
    "    problem['MeasurementDimension'] = MeasurementDimension\n",
    "    problem['MeasurementNoiseStd'] = MeasurementNoiseStd\n",
    "    problem['dof'] = MeasurementDimension\n",
    "    problem['type'] = 'linear-estimation'\n",
    "    num_outliers = np.floor(outliers_percentage*N)\n",
    "    problem['x_gt'] = np.random.normal(StateMeanandStd[0], StateMeanandStd[1], (StateDimension,1))\n",
    "    \n",
    "    problem['A'] = []\n",
    "    for i in range(N):\n",
    "        problem['A'].append(random_matrix(MeasurementDimension, StateDimension, min(MeasurementDimension, StateDimension)))\n",
    "    #print('MeasurementDimension: ', MeasurementDimension)\n",
    "    problem['y'] = []\n",
    "    for i in range(N):\n",
    "        problem['y'].append(problem['A'][i] .dot( problem['x_gt']) +  np.random.normal(0, int(MeasurementNoiseStd), size=(int(MeasurementDimension), 1)))\n",
    "    \n",
    "    convi = 1/MeasurementNoiseStd*np.eye(MeasurementDimension)\n",
    "    problem['outliers'] = sorted(random.sample(range(problem['N']), int(np.array(num_outliers))))\n",
    "    \n",
    "    for i in problem['outliers']:\n",
    "        y_gt = problem['y'][i]\n",
    "        d = 0\n",
    "        #print(OutlierSpace, np.shape(OutlierSpace))\n",
    "        #print(d, chi2.ppf(0.999, int(MeasurementDimension)), d < chi2.ppf(0.999, int(MeasurementDimension)))\n",
    "        while (d < chi2.ppf(0.999, int(MeasurementDimension))):\n",
    "            #y_meas = rand_in(MeasurementDimension, 1, range(OutlierSpace[0], OutlierSpace[1]+1))\n",
    "            \n",
    "            y_meas = rand_in(MeasurementDimension, 1, (OutlierSpace))\n",
    "\n",
    "            d = (y_gt - y_meas).T @ convi @ (y_gt - y_meas)\n",
    "            #print(d < chi2.ppf(0.999, int(MeasurementDimension)))\n",
    "        \n",
    "        problem['y'][i] = y_meas\n",
    "        \n",
    "    problem['priors'] = []\n",
    "    \n",
    "    return problem\n",
    "        \n",
    "    \n",
    "    "
   ]
  },
  {
   "cell_type": "code",
   "execution_count": 11,
   "metadata": {
    "scrolled": true
   },
   "outputs": [],
   "source": [
    "num_samples = 100; #% how many measurements are available\n",
    "outliers_percentage = 0.6;\n",
    "\n",
    "problem = linearRegressionProblem(num_samples, outliers_percentage);\n"
   ]
  },
  {
   "cell_type": "code",
   "execution_count": 12,
   "metadata": {},
   "outputs": [],
   "source": [
    "import scipy.sparse as sp\n",
    "from scipy.sparse.linalg import spsolve\n",
    "from scipy import sparse\n",
    "\n",
    "\n",
    "\n",
    "def leastSquareNorm2(problem, **kwargs):\n",
    "    \n",
    "    assert isProblem(problem) and problem['type']=='linear-estimation', 'You cannot solve this problem with linear least square'\n",
    "    measurements = range(problem['N'])\n",
    "    default_weights = np.ones(problem['N'])\n",
    "    \n",
    "    Inliers = kwargs.get('Inliers', measurements)\n",
    "    assert all(isinstance(elem, numbers.Number) for elem in Inliers) and np.all(np.floor(Inliers)==Inliers), 'Inliers must be numeric and integers'\n",
    "    #print('Inliers: ', Inliers)\n",
    "    \n",
    "    Weights = kwargs.get('Weights', default_weights)\n",
    "    #print('Weights: ', Weights)\n",
    "    #print('Type of Weights: ', type(Weights))\n",
    "    \n",
    "    assert all(isinstance(elem, numbers.Number) for elem in Weights), 'Weights must be numeric'\n",
    "    #assert all(isinstance(elem, numbers.Number) for elem in Weights), \"Weights must be numeric\"\n",
    "    \n",
    "    Estimate = kwargs.get('Estimate', [])\n",
    "    assert all(isinstance(elem, numbers.Number) for elem in Estimate), 'Estimate must be numeric'\n",
    "    \n",
    "    assert np.size(Weights)==problem['N'], 'The weights should be a 1xN vector'\n",
    "    \"\"\"\n",
    "    A_ = {}\n",
    "    for i in Inliers:\n",
    "        A_[i] = (np.sqrt(Weights[i]) *  problem['A'][i])\n",
    "\n",
    "    print(np.size(A_))\n",
    "    print(A_)\n",
    "    \n",
    "    \n",
    "    #A_ = np.vstack(A_)\n",
    "    #A_sparse = sp.csr_matrix(A_)\n",
    "    A_sparse = sparse.vstack(A_)\n",
    "    #print(A_sparse)\n",
    "    \n",
    "    y_ = {}\n",
    "    for i in Inliers:\n",
    "        y_[i] = np.sqrt(Weights[i]*problem['y'][i])\n",
    "    \n",
    "    print(np.size(y_))\n",
    "    print(y_)\n",
    "    \n",
    "    #y_ = np.vstack(y_)\n",
    "    #y_sparse = sp.csr_matrix(y_)\n",
    "    y_sparse = sparse.vstack(y_)\n",
    "    #print(y_sparse)\n",
    "    \"\"\"\n",
    "    \n",
    "    A_ = [None] * len(Inliers)\n",
    "    #print(np.size(A_))\n",
    "    for i in Inliers:\n",
    "        A_.append(np.sqrt(Weights[i]) * problem['A'][i])\n",
    "    A_sparse = sparse.vstack(A_)\n",
    "\n",
    "    y_ = [None] * len(Inliers)\n",
    "    for i in Inliers:\n",
    "        y_.append(np.sqrt(Weights[i]) * problem['y'][i])\n",
    "    y_sparse = sparse.vstack(y_)\n",
    "    \n",
    "    #print(np.size(A_), np.size(y_))\n",
    "    \n",
    "    \n",
    "    if np.size(Estimate)==0:\n",
    "        #x = (A_sparse.T @ A_sparse)\\(A_sparse.T @ y_sparse)\n",
    "        #x = spsolve(A_.T @ A_, A_.T @ y_)\n",
    "        x = spsolve(A_sparse.T @ A_sparse, A_sparse.T @ y_sparse)\n",
    "    else:\n",
    "        print('Not isempty(params.Results.Estimate)')\n",
    "        x = kwargs['Estimate']\n",
    "    \n",
    "    #f_val = np.linalg.norm(np.dot(A_sparse.T , x) - y_sparse)**2\n",
    "    #print(x, np.shape(x))\n",
    "    \n",
    "    f_val = np.linalg.norm(A_sparse.dot(np.array(x).reshape(-1, 1)) - y_sparse)**2\n",
    "    \n",
    "    residues = np.zeros(((int(np.array(problem['MeasurementDimension'])), problem['N'])))\n",
    "    for i in range(problem['N']):\n",
    "        #print(np.shape(problem['A'][i]))\n",
    "        #print(np.shape(x))\n",
    "        #print(np.shape(problem['y'][i]))\n",
    "        #residues[:,i] = (problem['A'][i].dot(x.reshape(-1, 1)) - problem['y'][i]).ravel()\n",
    "        residues[:,i] = (problem['A'][i].dot(x).reshape(-1,1) - problem['y'][i]).ravel()\n",
    "        \n",
    "    residuals = np.zeros(problem['N'])\n",
    "    for i in range(problem['N']):\n",
    "        residuals[i] = np.linalg.norm(residues[:,i])**2\n",
    "        \n",
    "    info = {'x': x, 'residuals': residuals, 'residues': residues}\n",
    "    \n",
    "    return f_val, info\n",
    "    "
   ]
  },
  {
   "cell_type": "code",
   "execution_count": 13,
   "metadata": {},
   "outputs": [],
   "source": [
    "problem = linearRegressionProblem(num_samples, outliers_percentage);\n",
    "problem['f'] = leastSquareNorm2;\n",
    "problem['MinMeasurements'] = 1;"
   ]
  },
  {
   "cell_type": "code",
   "execution_count": 14,
   "metadata": {},
   "outputs": [],
   "source": [
    "def printProblemSummary(problem):\n",
    "    num_outliers = np.size(problem['outliers']);\n",
    "    print('Problem:\\n');\n",
    "    print('Type:', problem['type']);\n",
    "    print('Measurements (N):', problem['N']);\n",
    "    print('Num. outliers (k): ', num_outliers);\n",
    "    print('Num. priors:   ', len(problem['priors']));\n",
    "    print('Num. possible outliers (|V|): ', problem['N'] - np.size(problem['priors']));\n",
    "    print('   k/N: %.03f\\n', num_outliers/problem['N']);\n",
    "    print('   k/|V|: %.03f\\n', num_outliers/(problem['N'] - len(problem['priors'])));\n",
    "    "
   ]
  },
  {
   "cell_type": "code",
   "execution_count": 15,
   "metadata": {},
   "outputs": [
    {
     "name": "stdout",
     "output_type": "stream",
     "text": [
      "Problem:\n",
      "\n",
      "Type: linear-estimation\n",
      "Measurements (N): 100\n",
      "Num. outliers (k):  60\n",
      "Num. priors:    0\n",
      "Num. possible outliers (|V|):  100\n",
      "   k/N: %.03f\n",
      " 0.6\n",
      "   k/|V|: %.03f\n",
      " 0.6\n"
     ]
    }
   ],
   "source": [
    "printProblemSummary(problem)"
   ]
  },
  {
   "cell_type": "code",
   "execution_count": 16,
   "metadata": {
    "scrolled": true
   },
   "outputs": [
    {
     "name": "stdout",
     "output_type": "stream",
     "text": [
      "  - Least-Square\n",
      "\n"
     ]
    }
   ],
   "source": [
    "print('  - Least-Square\\n')\n",
    "start_t = datetime.datetime.now();\n",
    "\n",
    "[f_val_ls, info_ls] = leastSquareNorm2(problem, Inliers =range(problem['N']));\n",
    "runtime = (datetime.datetime.now()-start_t)#*24*60*60;"
   ]
  },
  {
   "cell_type": "code",
   "execution_count": 17,
   "metadata": {},
   "outputs": [
    {
     "name": "stdout",
     "output_type": "stream",
     "text": [
      "0:00:00.045959\n"
     ]
    }
   ],
   "source": [
    "print(runtime)"
   ]
  },
  {
   "cell_type": "code",
   "execution_count": 18,
   "metadata": {},
   "outputs": [
    {
     "name": "stdout",
     "output_type": "stream",
     "text": [
      "663411.921101114\n"
     ]
    }
   ],
   "source": [
    "print(f_val_ls)"
   ]
  },
  {
   "cell_type": "code",
   "execution_count": 19,
   "metadata": {},
   "outputs": [
    {
     "name": "stdout",
     "output_type": "stream",
     "text": [
      "Solving with:\n"
     ]
    }
   ],
   "source": [
    "import numpy as np\n",
    "from scipy.stats import chi2\n",
    "\n",
    "cfg                 = {}\n",
    "cfg['epsilon']      = chi2.ppf(0.99, problem['dof']) * np.array(problem['MeasurementNoiseStd'])**2\n",
    "cfg['epsilon_mts']  = lambda n: chi2.ppf(0.99, n*problem['dof'])\n",
    "cfg['epsilon_dmts'] = lambda n1, n2: UDGinv(0.99, n1*problem['dof']/2, n2*problem['dof']/2, 2*problem['MeasurementNoiseStd']**2, 2*problem['MeasurementNoiseStd']**2)\n",
    "results             = {}\n",
    "print('Solving with:')"
   ]
  },
  {
   "cell_type": "code",
   "execution_count": 20,
   "metadata": {},
   "outputs": [
    {
     "name": "stdout",
     "output_type": "stream",
     "text": [
      "Solving with:\n",
      "\n"
     ]
    }
   ],
   "source": [
    "print('Solving with:\\n')\n",
    "\n",
    "results = {}\n",
    "results['ls'] = {}\n",
    "results['ls']['algname'] = 'Least-Square'\n",
    "results['ls']['f_val'] = f_val_ls\n",
    "#tp, fp = detectionStats(problem, np.arange(1, problem['N']+1))\n",
    "#results['ls']['stats'] = {'tp': tp, 'fp': fp}\n",
    "results['ls']['iterations'] = 1\n",
    "results['ls']['time'] = runtime\n"
   ]
  },
  {
   "cell_type": "code",
   "execution_count": 21,
   "metadata": {},
   "outputs": [],
   "source": [
    "import scipy.sparse as sp\n",
    "from scipy.sparse.linalg import spsolve\n",
    "from scipy import sparse\n",
    "\n",
    "\n",
    "\n",
    "def leastSquareNorm2(problem, **kwargs):\n",
    "    \n",
    "    assert isProblem(problem) and problem['type']=='linear-estimation', 'You cannot solve this problem with linear least square'\n",
    "    measurements = range(problem['N'])\n",
    "    default_weights = np.ones(problem['N'])\n",
    "    \n",
    "    Inliers = kwargs.get('Inliers', measurements)\n",
    "    assert all(isinstance(elem, numbers.Number) for elem in Inliers) and np.all(np.floor(Inliers)==Inliers), 'Inliers must be numeric and integers'\n",
    "    #print('Inliers: ', Inliers)\n",
    "    \n",
    "    Weights = kwargs.get('Weights', default_weights)\n",
    "    #print('Weights: ', Weights)\n",
    "    #print('Type of Weights: ', type(Weights))\n",
    "    \n",
    "    assert all(isinstance(elem, numbers.Number) for elem in Weights), 'Weights must be numeric'\n",
    "    #assert all(isinstance(elem, numbers.Number) for elem in Weights), \"Weights must be numeric\"\n",
    "    \n",
    "    Estimate = kwargs.get('Estimate', [])\n",
    "    assert all(isinstance(elem, numbers.Number) for elem in Estimate), 'Estimate must be numeric'\n",
    "    \n",
    "    assert np.size(Weights)==problem['N'], 'The weights should be a 1xN vector'\n",
    "    \"\"\"\n",
    "    A_ = {}\n",
    "    for i in Inliers:\n",
    "        A_[i] = (np.sqrt(Weights[i]) *  problem['A'][i])\n",
    "\n",
    "    print(np.size(A_))\n",
    "    print(A_)\n",
    "    \n",
    "    \n",
    "    #A_ = np.vstack(A_)\n",
    "    #A_sparse = sp.csr_matrix(A_)\n",
    "    A_sparse = sparse.vstack(A_)\n",
    "    #print(A_sparse)\n",
    "    \n",
    "    y_ = {}\n",
    "    for i in Inliers:\n",
    "        y_[i] = np.sqrt(Weights[i]*problem['y'][i])\n",
    "    \n",
    "    print(np.size(y_))\n",
    "    print(y_)\n",
    "    \n",
    "    #y_ = np.vstack(y_)\n",
    "    #y_sparse = sp.csr_matrix(y_)\n",
    "    y_sparse = sparse.vstack(y_)\n",
    "    #print(y_sparse)\n",
    "    \"\"\"\n",
    "    \n",
    "    A_ = [None] * len(Inliers)\n",
    "    #print(np.size(A_))\n",
    "    for i in Inliers:\n",
    "        A_.append(np.sqrt(Weights[i]) * problem['A'][i])\n",
    "    A_sparse = sparse.vstack(A_)\n",
    "\n",
    "    y_ = [None] * len(Inliers)\n",
    "    for i in Inliers:\n",
    "        y_.append(np.sqrt(Weights[i]) * problem['y'][i])\n",
    "    y_sparse = sparse.vstack(y_)\n",
    "    \n",
    "    #print(np.size(A_), np.size(y_))\n",
    "    \n",
    "    \"\"\"\"\n",
    "    if np.size(Estimate)==0:\n",
    "        #x = (A_sparse.T @ A_sparse)\\(A_sparse.T @ y_sparse)\n",
    "        #x = spsolve(A_.T @ A_, A_.T @ y_)\n",
    "        x = spsolve(A_sparse.T @ A_sparse, A_sparse.T @ y_sparse)\n",
    "    else:\n",
    "        print('Not isempty(params.Results.Estimate)')\n",
    "        x = kwargs['Estimate']\n",
    "    \"\"\"\n",
    "    \n",
    "    if 'Estimate' in kwargs and kwargs['Estimate'] is not None:\n",
    "        x = kwargs['Estimate']\n",
    "    else:\n",
    "        x = spsolve(A_sparse.T @ A_sparse, A_sparse.T @ y_sparse)\n",
    "    \n",
    "    \n",
    "    #f_val = np.linalg.norm(np.dot(A_sparse.T , x) - y_sparse)**2\n",
    "    #print(x, np.shape(x))\n",
    "    \n",
    "    f_val = np.linalg.norm(A_sparse.dot(np.array(x).reshape(-1, 1)) - y_sparse)**2\n",
    "    \n",
    "    residues = np.zeros(((int(np.array(problem['MeasurementDimension'])), problem['N'])))\n",
    "    for i in range(problem['N']):\n",
    "        #print(np.shape(problem['A'][i]))\n",
    "        #print(np.shape(x))\n",
    "        #print(np.shape(problem['y'][i]))\n",
    "        #residues[:,i] = (problem['A'][i].dot(x.reshape(-1, 1)) - problem['y'][i]).ravel()\n",
    "        residues[:,i] = (problem['A'][i].dot(x).reshape(-1,1) - problem['y'][i]).ravel()\n",
    "        \n",
    "    residuals = np.zeros(problem['N'])\n",
    "    for i in range(problem['N']):\n",
    "        residuals[i] = np.linalg.norm(residues[:,i])**2\n",
    "        \n",
    "    info = {'x': x, 'residuals': residuals, 'residues': residues}\n",
    "    \n",
    "    return f_val, info\n",
    "    "
   ]
  },
  {
   "cell_type": "code",
   "execution_count": null,
   "metadata": {},
   "outputs": [],
   "source": []
  },
  {
   "cell_type": "code",
   "execution_count": 22,
   "metadata": {},
   "outputs": [
    {
     "name": "stdout",
     "output_type": "stream",
     "text": [
      "  - Ground-Truth Least-Square...\n",
      "\n"
     ]
    }
   ],
   "source": [
    "print('  - Ground-Truth Least-Square...\\n')\n",
    "inliers_gt = np.setdiff1d(range(problem['N']), problem['outliers']);"
   ]
  },
  {
   "cell_type": "code",
   "execution_count": 23,
   "metadata": {
    "scrolled": true
   },
   "outputs": [],
   "source": [
    "start_t = datetime.datetime.now()\n",
    "f_val_gt,info_gt = leastSquareNorm2(problem, Inliers=list(inliers_gt))\n",
    "runtime = (datetime.datetime.now()-start_t)#*24*60*60;"
   ]
  },
  {
   "cell_type": "code",
   "execution_count": 24,
   "metadata": {},
   "outputs": [
    {
     "name": "stdout",
     "output_type": "stream",
     "text": [
      "[ 0  8 10 13 21 23 25 27 28 29 30 33 39 42 43 44 47 48 49 50 51 58 59 60\n",
      " 61 64 67 69 73 74 75 79 81 85 86 89 92 93 94 96]\n",
      "(array([ 0,  8, 10, 13, 21, 23, 25, 27, 28, 29, 30, 33, 39, 42, 43, 44, 47,\n",
      "       48, 49, 50, 51, 58, 59, 60, 61, 64, 67, 69, 73, 74, 75, 79, 81, 85,\n",
      "       86, 89, 92, 93, 94, 96], dtype=int64),)\n"
     ]
    }
   ],
   "source": [
    "print(inliers_gt)\n",
    "print(np.where(info_gt['residuals']<10))"
   ]
  },
  {
   "cell_type": "code",
   "execution_count": 25,
   "metadata": {
    "scrolled": true
   },
   "outputs": [
    {
     "name": "stdout",
     "output_type": "stream",
     "text": [
      "[ 0  8 10 13 21 23 25 27 28 29 30 33 39 42 43 44 47 48 49 50 51 58 59 60\n",
      " 61 64 67 69 73 74 75 79 81 85 86 89 92 93 94 96]\n",
      "(array([ 0,  8, 10, 13, 21, 23, 25, 27, 28, 29, 30, 33, 39, 42, 43, 44, 47,\n",
      "       48, 49, 50, 51, 58, 59, 60, 61, 64, 67, 69, 73, 74, 75, 79, 81, 85,\n",
      "       86, 89, 92, 93, 94, 96], dtype=int64),)\n",
      "[ True False False False False False False False  True False  True False\n",
      " False  True False False False False False False False  True False  True\n",
      " False  True False  True  True  True  True False False  True False False\n",
      " False False False  True False False  True  True  True False False  True\n",
      "  True  True  True  True False False False False False False  True  True\n",
      "  True  True False False  True False False  True False  True False False\n",
      " False  True  True  True False False False  True False  True False False\n",
      " False  True  True False False  True False False  True  True  True False\n",
      "  True False False False]\n"
     ]
    }
   ],
   "source": [
    "print(inliers_gt)\n",
    "print(np.where(info_gt['residuals']<10))\n",
    "print(info_gt['residuals']<8)"
   ]
  },
  {
   "cell_type": "code",
   "execution_count": 26,
   "metadata": {
    "scrolled": true
   },
   "outputs": [
    {
     "name": "stdout",
     "output_type": "stream",
     "text": [
      "663411.921101114\n",
      "2.6842471414342216e-27\n"
     ]
    }
   ],
   "source": [
    "print(f_val_ls)\n",
    "print(f_val_gt)"
   ]
  },
  {
   "cell_type": "code",
   "execution_count": 27,
   "metadata": {},
   "outputs": [],
   "source": [
    "def detectionStats(problem, inliers):\n",
    "    num_outliers = len(problem['outliers'])\n",
    "    if num_outliers == 0:\n",
    "        true_positive_rate = 1\n",
    "        false_positive_rate = 0\n",
    "        precision = 1\n",
    "        recall = 1\n",
    "    else:\n",
    "        outliers = np.setdiff1d(np.arange(1, problem['N']+1), inliers)\n",
    "        true_inliers = np.setdiff1d(np.arange(1, problem['N']+1), np.union1d(problem['priors'], problem['outliers']))\n",
    "        if len(true_inliers) == 0:\n",
    "            true_positive_rate = 0\n",
    "            false_positive_rate = 0\n",
    "            precision = 0\n",
    "            recall = 0\n",
    "        else:\n",
    "            true_positive = np.intersect1d(problem['outliers'], outliers)\n",
    "            false_positive = np.intersect1d(true_inliers, outliers)\n",
    "            true_positive_rate = len(true_positive) / num_outliers\n",
    "            false_positive_rate = len(false_positive) / len(true_inliers)\n",
    "            precision = len(true_positive) / (len(true_positive) + len(false_positive))\n",
    "            recall = len(true_positive) / num_outliers\n",
    "    return true_positive_rate, false_positive_rate, precision, recall\n"
   ]
  },
  {
   "cell_type": "code",
   "execution_count": 28,
   "metadata": {},
   "outputs": [],
   "source": [
    "#tp, fp = detectionStats(problem, range(problem['N']))\n",
    "#results['ls']['stats'] = {'tp': tp, 'fp': fp}"
   ]
  },
  {
   "cell_type": "code",
   "execution_count": 29,
   "metadata": {},
   "outputs": [
    {
     "data": {
      "text/plain": [
       "(0.0, 0.025, 0.0, 0.0)"
      ]
     },
     "execution_count": 29,
     "metadata": {},
     "output_type": "execute_result"
    }
   ],
   "source": [
    "detectionStats(problem, range(problem['N']))"
   ]
  },
  {
   "cell_type": "code",
   "execution_count": 30,
   "metadata": {},
   "outputs": [],
   "source": [
    "results['gt'] = {}\n",
    "results['gt']['algname'] = 'Ground-Truth';\n",
    "results['gt']['f_val'] = f_val_gt;\n",
    "#[results['gt'].stats.tp, results.gt.stats.fp] = detectionStats(problem, inliers_gt);\n",
    "results['gt']['iterations'] = 1;\n",
    "results['gt']['time'] = runtime;"
   ]
  },
  {
   "cell_type": "code",
   "execution_count": 31,
   "metadata": {},
   "outputs": [
    {
     "name": "stdout",
     "output_type": "stream",
     "text": [
      "2.6842471414342216e-27\n",
      "663411.921101114\n"
     ]
    }
   ],
   "source": [
    "print(results['gt']['f_val'])\n",
    "print(results['ls']['f_val'])"
   ]
  },
  {
   "cell_type": "code",
   "execution_count": 32,
   "metadata": {},
   "outputs": [],
   "source": [
    "def gncWeightsUpdate(weights, mu, residuals, barc2):\n",
    "    # GNC - GNC weights update for the TLS cost function\n",
    "    # Reference:\n",
    "    #    - \"Graduated Non-Convexity for Robust Spatial Perception: From Non-Minimal Solvers to Global Outlier Rejection\"\n",
    "    #      Yang, Antonante, Tzoumas, Carlone (2020). IEEE Robotics and Automation Letters (RA-L), 5(2), 1127–1134.\n",
    "    #      https://arxiv.org/pdf/1909.08605.pdf\n",
    "    #    - \"Outlier-Robust Estimation: Hardness, Minimally-Tuned Algorithms, and Applications\"\n",
    "    #      Antonante, Tzoumas, Yang, Carlone (2020).\n",
    "    #      https://arxiv.org/pdf/2007.15109.pdf\n",
    "\n",
    "    # Author: Pasquale Antonante\n",
    "    # email: antonap@mit.edu\n",
    "    # Date: 2021-01-06\n",
    "\n",
    "    th1 = (mu+1)/mu * barc2\n",
    "    th2 = (mu)/(mu+1) * barc2  # th1 > th2\n",
    "    \n",
    "    #print('th1 and th2 are: \\n', th1, th2)\n",
    "    \n",
    "    #display(np.shape(np.array(residuals)))\n",
    "    #display(np.size(np.array(residuals)))\n",
    "    \n",
    "    for k in range(np.size(residuals)):\n",
    "    #for k in range(np.shape(residuals)[1]):\n",
    "        #print('Residual[k]', residuals[k])\n",
    "        #residuals_k = np.squeeze(residuals[k])\n",
    "        #display(k, np.shape(residuals), np.shape(residuals[k]), np.shape(th1), np.shape(th2))\n",
    "        #display(residuals[k])\n",
    "        #display('Residuals[k] is: ', residuals[k])\n",
    "        if (residuals[k] - th1) >= 0:\n",
    "            weights[k] = 0\n",
    "            #print('residuals(k) - th1 >= 0: \\n', residuals[k], th1 )\n",
    "        elif (residuals[k] - th2) <= 0:\n",
    "            weights[k] = 1\n",
    "            #print('residuals(k) - th2 <= 0: \\n', residuals[k], th2 )\n",
    "        else:\n",
    "            weights[k] = math.sqrt( barc2*mu*(mu+1)/residuals[k] ) - mu\n",
    "            \n",
    "            #print('weights[k] = math.sqrt( barc2*mu*(mu+1)/residuals[k] ) - mu', residuals[k], weights[k])\n",
    "            assert 0 <= weights[k] <= 1, f'weights {weights[k]} calculation wrong!'\n",
    "    \n",
    "    #display(type(weights))\n",
    "\n",
    "    return weights, th1, th2\n"
   ]
  },
  {
   "cell_type": "code",
   "execution_count": 33,
   "metadata": {},
   "outputs": [],
   "source": [
    "import math  \n",
    "def gnc_vanilla(problem, f, **kwargs):\n",
    "    continuation_factor = kwargs.get('ContinuationFactor', 1.4)\n",
    "    initial_mu = kwargs.get('InitialMu', 'auto')\n",
    "    noise_bound = kwargs.get('NoiseBound', 0)\n",
    "    max_iterations = kwargs.get('MaxIterations', 1e3)\n",
    "    fix_priors_weights = kwargs.get('FixPriorsWeights', True)\n",
    "    cost_threshold = kwargs.get('CostThreshold', 0)\n",
    "    debug = kwargs.get('Debug', False)\n",
    "    init_ = kwargs.get('init_', 0)\n",
    "\n",
    "    max_iterations = int(max_iterations)\n",
    "\n",
    "    if debug:\n",
    "        residuals_history = []\n",
    "        weights_history = []\n",
    "\n",
    "    if 'init_' not in kwargs:\n",
    "        try:\n",
    "            _, f_info = f(problem)\n",
    "            #print('f(problem): ', f(problem))\n",
    "        except Exception as e:\n",
    "            print(f'Error message: {str(e)}')\n",
    "            raise Exception(\"Could not run the global solver\")\n",
    "        assert 'residuals' in f_info, 'f should compute residuals'\n",
    "    else:\n",
    "        f_info = kwargs['init_']\n",
    "\n",
    "    barc2 = noise_bound\n",
    "    weights = np.ones(problem['N'])\n",
    "    \n",
    "    #print('barc2 is: {}', barc2)\n",
    "    #print('Max of residuals: {}', np.max(f_info['residuals']))\n",
    "    #print('Residuals are: {}', f_info['residuals'])\n",
    "    #display(type(weights))\n",
    "    \n",
    "    \n",
    "    if isinstance(initial_mu, str) and initial_mu.lower() == 'auto':\n",
    "        mu = 1 / (2 * np.max(f_info['residuals']) / barc2 - 1 )\n",
    "        #display('mu = 1 / (2 * np.max(f_info[residuals]) / barc2 - 1 )')\n",
    "    elif isinstance(initial_mu, (int, float)):\n",
    "        mu = initial_mu\n",
    "    else:\n",
    "        raise ValueError('Invalid value for InitialMu')\n",
    "\n",
    "    prev_f_cost = 0\n",
    "\n",
    "    i = 1\n",
    "    info = {}\n",
    "    info['stopping'] = 'MaxIterations'  # Worst case stopping\n",
    "    info['status'] = 1  # worst case status: failure\n",
    "\n",
    "    while i < max_iterations:\n",
    "        if debug:\n",
    "            residuals_history.append(f_info['residuals'].tolist())\n",
    "            weights_history.append(weights.tolist())\n",
    "            \n",
    "        #print('mu is: {}',mu)\n",
    "        #print('f_info[residuals]')\n",
    "        #print(f_info['residuals'])\n",
    "        \n",
    "        weights, th1out, th2out = gncWeightsUpdate(weights, mu, f_info['residuals'], barc2)\n",
    "        #print('Weights after gnc algorithm')\n",
    "        #print(weights)\n",
    "        \n",
    "        #print(type(weights))\n",
    "        #print(type(list(weights)))\n",
    "        \n",
    "        if fix_priors_weights:\n",
    "            weights[problem['priors']] = 1\n",
    "        \n",
    "        try:\n",
    "            _, f_info = f(problem, Weights=weights)\n",
    "            #print('_, f_info = f(problem, Weights=weights)')\n",
    "            #print(weights)\n",
    "            \n",
    "        except Exception as e:\n",
    "            print(f'Error message: {str(e)}')\n",
    "            raise Exception(\"Could not run the global solver\")\n",
    "        \n",
    "        f_cost = np.sum(f_info['residuals'] * weights)\n",
    "        \n",
    "        cost_diff = np.abs(f_cost - prev_f_cost)\n",
    "        \n",
    "        prev_f_cost = f_cost\n",
    "\n",
    "        if (cost_diff < cost_threshold) or areBinaryWeights(weights):\n",
    "            if debug:\n",
    "                residuals_history.append(f_info['residuals'].tolist())\n",
    "                weights_history.append(weights.tolist())\n",
    "            info['residuals'] = f_info['residuals'].tolist()\n",
    "            info['stopping'] = 'CostThreshold'\n",
    "            info['status'] = 1\n",
    "            break\n",
    "        mu *= continuation_factor\n",
    "        i += 1\n",
    "    \n",
    "    \n",
    "    #print(np.where(weights > 1-2.2204e-16))\n",
    "    \n",
    "    inliers = np.where(weights > 1-2.2204e-16)[0].tolist()\n",
    "    \n",
    "    info['Iterations'] = i\n",
    "    info['params'] = kwargs\n",
    "    info['Algorithm'] = 'GNC'\n",
    "    if debug:\n",
    "        info['mu'] = mu\n",
    "        info['barc2History'] = np.repeat(barc2, i+1)\n",
    "        info['ResidualsHistory'] = residuals_history\n",
    "        info['WeightsHistory'] = weights_history\n",
    "        info['CostDiff'] = cost_diff\n",
    "        info['AreBinaryWeights'] = areBinaryWeights(weights)\n",
    "\n",
    "    return inliers, info\n"
   ]
  },
  {
   "cell_type": "code",
   "execution_count": 34,
   "metadata": {},
   "outputs": [],
   "source": [
    "def gnc(problem, f, **kwargs):\n",
    "    \"\"\"\n",
    "    %GNC - Graduated Non-Convexity\n",
    "    % Implementation of: \n",
    "    %    - \"Graduated Non-Convexity for Robust Spatial Perception: From Non-Minimal Solvers to Global Outlier Rejection\"\n",
    "    %      Yang, Antonante, Tzoumas, Carlone (2020). IEEE Robotics and Automation Letters (RA-L), 5(2), 1127–1134.\n",
    "    %      https://arxiv.org/pdf/1909.08605.pdf\n",
    "    %    - \"Outlier-Robust Estimation: Hardness, Minimally-Tuned Algorithms, and Applications\" \n",
    "    %      Antonante, Tzoumas, Yang, Carlone (2020).\n",
    "    %      https://arxiv.org/pdf/2007.15109.pdf\n",
    "    %\n",
    "    % Syntax:  [inliers, info] = gnc(problem, f, ...)\n",
    "    %\n",
    "    % Inputs:\n",
    "    %    problem - the stracture representing a generic problem (see EmptyProblem)\n",
    "    %    f - a function_handler of a non-minimal solver for problem\n",
    "    %\n",
    "    % Options:\n",
    "    %    - ContinuationFactor: continuation factor for mu\n",
    "    %    - InitialMu: initial mu (default: auto)\n",
    "    %    - NoiseBound: inlier threshold\n",
    "    %    - MaxIterations: maximum number of iterations\n",
    "    %    - FixPriorsWeights: fix priors weights to 1 across all iterations\n",
    "    %    - CostThreshold: if weighted sum of squared residuals is below this value, GNC stops\n",
    "    %    - Debug: whether or not to enable the debug information\n",
    "    %\n",
    "    % Outputs:\n",
    "    %    inliers - the indices of the inliers\n",
    "    %    info - structure containing extended information about the xecution\n",
    "    % \n",
    "    % Example:\n",
    "    %   problem = linearRegressionProblem(100, 0.8);\n",
    "    %   [inliers, info] = gnc(problem, @leastSquareNorm2, ...\n",
    "    %       'NoiseBound', chi2inv(0.99, problem.dof)*problem.MeasurementNoiseStd^2);\n",
    "\n",
    "    % Author: Pasquale Antonante\n",
    "    % email: antonap@mit.edu\n",
    "    % Date: 2021-01-06\n",
    "    \"\"\"\n",
    "    \n",
    "    #inliers = kwargs.get('Inliers', measurements)\n",
    "    #assert all(isinstance(elem, numbers.Number) for elem in inliers) and all(np.floor(inliers)==inliers), \"Inliers must be numeric and integers\"\n",
    "    #print(inliers)\n",
    "    #weights = kwargs.get('Weights', default_weights)\n",
    "    \n",
    "    \n",
    "    #params = inputParser;\n",
    "    #params.KeepUnmatched = true;\n",
    "    #params.addParameter('NoiseBound', 0, @(x) isscalar(x) && x>=0 && isfinite(x));\n",
    "    #arams.parse(varargin{:});\n",
    "    #start_t = now;\n",
    "    #if params.Results.NoiseBound > 0\n",
    "    #    [inliers, info] = gnc_vanilla(problem, f, varargin{:});\n",
    "    #else\n",
    "    #    error('You need to set the Noise Bound')\n",
    "    #end\n",
    "    #end_t = now;\n",
    "    \n",
    "    NoiseBound = kwargs.get('NoiseBound', 0)\n",
    "    assert(np.size(NoiseBound)==1 and NoiseBound >= 0 and np.isfinite(NoiseBound))\n",
    "    \n",
    "    assert isProblem(problem), 'The problem doesn''t contain required fields.'\n",
    "\n",
    "    start_t = datetime.datetime.now();\n",
    "    \n",
    "    if NoiseBound > 0:\n",
    "        [inliers, info] = gnc_vanilla(problem, f, **kwargs);\n",
    "    else:\n",
    "        ValueError('You need to set the Noise Bound')\n",
    "    \n",
    "    #print('Output of gnc_vanilla')\n",
    "    #print(inliers)\n",
    "    end_t = datetime.datetime.now();\n",
    "    \n",
    "    info = {}\n",
    "    info['time'] = (end_t - start_t) #* 24 * 60 * 60; #% serial date number to sec\n",
    "    \n",
    "    return inliers, info\n",
    "    \n"
   ]
  },
  {
   "cell_type": "code",
   "execution_count": 35,
   "metadata": {},
   "outputs": [],
   "source": [
    "def areBinaryWeights(weights):\n",
    "    # Check the input vector is (approximately) a binary vector\n",
    "    flag = True\n",
    "    th = 1e-12\n",
    "    for i in range(len(weights)-1, -1, -1):\n",
    "        if weights[i] > th and abs(1 - weights[i]) > th:\n",
    "            flag = False\n",
    "            break\n",
    "    return flag"
   ]
  },
  {
   "cell_type": "code",
   "execution_count": 36,
   "metadata": {
    "scrolled": true
   },
   "outputs": [
    {
     "name": "stdout",
     "output_type": "stream",
     "text": [
      "  - GNC\n",
      "\n"
     ]
    }
   ],
   "source": [
    "print('  - GNC\\n')\n",
    "[inliers_gnc, info_gnc] = gnc(problem, problem['f'], NoiseBound=cfg['epsilon']);\n",
    "\n",
    "results['gnc'] = {}\n",
    "results['gnc']['algname'] = 'GNC';\n",
    "[f_val_gnc, info1_gnc] = leastSquareNorm2(problem, Inliers=inliers_gnc)\n",
    "\n",
    "results['gnc']['f_val'] = f_val_gnc\n",
    "\n",
    "#[results.gnc.stats.tp, results.gnc.stats.fp] = ...\n",
    "#    detectionStats(problem, inliers);\n",
    "\n"
   ]
  },
  {
   "cell_type": "code",
   "execution_count": 37,
   "metadata": {
    "scrolled": true
   },
   "outputs": [
    {
     "name": "stdout",
     "output_type": "stream",
     "text": [
      "663411.921101114\n",
      "2.6842471414342216e-27\n",
      "2.6842471414342216e-27\n"
     ]
    }
   ],
   "source": [
    "print(results['ls']['f_val'])\n",
    "print(results['gt']['f_val'])\n",
    "print(results['gnc']['f_val'])"
   ]
  },
  {
   "cell_type": "code",
   "execution_count": 38,
   "metadata": {},
   "outputs": [
    {
     "name": "stdout",
     "output_type": "stream",
     "text": [
      "[0, 8, 10, 13, 21, 23, 25, 27, 28, 29, 30, 33, 39, 42, 43, 44, 47, 48, 49, 50, 51, 58, 59, 60, 61, 64, 67, 69, 73, 74, 75, 79, 81, 85, 86, 89, 92, 93, 94, 96]\n"
     ]
    }
   ],
   "source": [
    "print(inliers_gnc)"
   ]
  },
  {
   "cell_type": "code",
   "execution_count": 39,
   "metadata": {},
   "outputs": [
    {
     "name": "stdout",
     "output_type": "stream",
     "text": [
      "[ 0  8 10 13 21 23 25 27 28 29 30 33 39 42 43 44 47 48 49 50 51 58 59 60\n",
      " 61 64 67 69 73 74 75 79 81 85 86 89 92 93 94 96]\n"
     ]
    }
   ],
   "source": [
    "print(inliers_gt)"
   ]
  },
  {
   "cell_type": "code",
   "execution_count": 40,
   "metadata": {},
   "outputs": [
    {
     "name": "stdout",
     "output_type": "stream",
     "text": [
      "[ True  True  True  True  True  True  True  True  True  True  True  True\n",
      "  True  True  True  True  True  True  True  True  True  True  True  True\n",
      "  True  True  True  True  True  True  True  True  True  True  True  True\n",
      "  True  True  True  True]\n"
     ]
    }
   ],
   "source": [
    "print(inliers_gnc == inliers_gt)"
   ]
  },
  {
   "cell_type": "code",
   "execution_count": 41,
   "metadata": {
    "scrolled": true
   },
   "outputs": [
    {
     "name": "stdout",
     "output_type": "stream",
     "text": [
      "[[ 8.88178420e-16  6.11466008e+00  4.75820610e+01 -4.65295375e+01\n",
      "   8.80131636e+01 -9.74955383e+01  7.62404214e+01 -4.13344943e+01\n",
      "   2.66453526e-15  4.24085375e+01 -2.66453526e-15 -6.94097551e+01\n",
      "   3.55558793e+01 -5.32907052e-15 -1.10355200e+01 -1.12192331e+01\n",
      "  -9.44088338e+01  3.89215975e+01 -6.14128852e+01 -5.09091234e+01\n",
      "   1.22742469e+01 -4.44089210e-16 -5.21314460e+01 -1.77635684e-15\n",
      "   9.34636302e+01  4.44089210e-15 -3.63871919e+01 -3.55271368e-15\n",
      "  -2.44249065e-15  5.32907052e-15  2.22044605e-16  3.50733386e+01\n",
      "   5.07051998e+01 -1.33226763e-15 -6.25876114e+01 -7.64686126e+01\n",
      "  -2.97708104e+01 -3.28111048e+00  8.02164025e+01 -4.88498131e-15\n",
      "   7.85742513e+01 -2.20379204e+01  5.32907052e-15  2.66453526e-15\n",
      "   2.66453526e-15 -5.78090111e+01  9.10478363e+01  6.21724894e-15\n",
      "  -5.32907052e-15  0.00000000e+00  0.00000000e+00 -3.55271368e-15\n",
      "   5.52254952e+01  6.29394507e+01  3.91122095e+01  6.14501103e+01\n",
      "   9.23103705e+01  7.70216552e+01 -3.55271368e-15 -1.77635684e-15\n",
      "  -5.32907052e-15  6.21724894e-15  2.68507587e+01  8.74942354e+01\n",
      "  -1.77635684e-15  4.44478085e+01  5.06824784e+00  7.54951657e-15\n",
      "  -5.68601381e+01  8.88178420e-16  9.54055248e+01  9.12976643e+01\n",
      "  -7.28727875e+01 -6.21724894e-15  6.66133815e-15 -3.33066907e-15\n",
      "  -8.07766532e+01  1.15962820e+01  5.25377508e+01  6.21724894e-15\n",
      "   8.39293271e+01 -2.66453526e-15 -1.49818526e+01  9.13623983e+01\n",
      "   9.05589790e+01 -7.99360578e-15 -1.77635684e-15  8.82015070e+01\n",
      "   4.78650194e+01 -5.32907052e-15  7.68709263e+01  3.71651438e+01\n",
      "  -1.11022302e-15 -3.99680289e-15  0.00000000e+00 -2.39495935e+01\n",
      "   1.06581410e-14 -8.29255849e+00 -7.03456422e+01 -5.52440604e+01]\n",
      " [ 1.77635684e-15  6.87671919e+01 -6.90035742e+01  4.63308184e+00\n",
      "  -3.19438185e+01 -7.97816738e+01  1.58877943e+01 -7.47624129e+01\n",
      "  -8.88178420e-16  9.39659923e+01 -5.32907052e-15  7.62312966e+01\n",
      "  -1.08782272e+01  7.99360578e-15 -2.99369035e+01  5.15388428e+01\n",
      "  -3.06143507e+01  5.77608628e+01 -6.47210627e+01 -1.86199982e+01\n",
      "   3.52917622e+01  4.44089210e-15  8.58265053e+01 -2.66453526e-15\n",
      "  -6.73812670e+01 -8.88178420e-16 -5.51438603e+01 -2.22044605e-15\n",
      "   6.21724894e-15 -2.66453526e-15 -7.10542736e-15  1.01728694e+02\n",
      "   8.95667749e+01 -1.77635684e-15  8.87157961e+01  6.55766086e+00\n",
      "  -1.44313596e+01  1.23370326e+01 -6.28255682e+01  4.44089210e-16\n",
      "   8.36486516e+01  7.52023960e+01 -8.88178420e-16 -1.33226763e-15\n",
      "   6.21724894e-15  5.75768713e+01  9.13696990e+01 -5.77315973e-15\n",
      "  -1.33226763e-15 -3.55271368e-15 -9.32587341e-15 -7.10542736e-15\n",
      "   7.47524399e+01  4.20110247e+01 -7.22775001e+01 -7.76760626e+01\n",
      "   9.53612509e+01 -9.31761946e+01  2.66453526e-15  5.32907052e-15\n",
      "  -2.44249065e-15 -8.43769499e-15  8.54466198e+01 -1.03182251e-01\n",
      "   9.76996262e-15  8.68054280e+01  5.98124783e+01 -2.22044605e-15\n",
      "   4.56378819e+01  3.33066907e-15 -7.98806198e+01  6.06432438e+01\n",
      "  -9.67826229e+01 -8.88178420e-15 -8.43769499e-15 -5.32907052e-15\n",
      "   6.49990963e+01 -7.00628481e+01  5.19488408e+01  2.66453526e-15\n",
      "   2.37047666e+00  5.77315973e-15  2.00251228e+01 -2.28355395e+01\n",
      "  -7.37763371e+01 -1.77635684e-15 -5.32907052e-15  8.82091094e+01\n",
      "   9.05017134e+01 -6.21724894e-15 -9.14261409e+01 -1.53439181e+01\n",
      "   7.99360578e-15 -2.66453526e-15  3.10862447e-15  3.94402270e+00\n",
      "   1.77635684e-15 -8.46655878e+01  9.72167660e+00 -1.35633735e+01]\n",
      " [ 5.32907052e-15  2.09253159e+01  2.63810167e+01 -4.12831285e+01\n",
      "  -8.85900112e+01  9.44419377e+01  7.31620742e+01 -3.25604803e+01\n",
      "  -3.99680289e-15  4.07773080e+01  5.32907052e-15  1.00997552e+02\n",
      "  -5.57101439e+01  1.77635684e-15  8.05277837e+01  6.47620286e+01\n",
      "  -5.85903245e+01 -7.52667148e+01  5.40450429e+01 -7.13212736e+01\n",
      "   5.58265939e+01  6.21724894e-15  8.67825269e+01  1.06581410e-14\n",
      "  -2.71438718e+00  1.77635684e-15  8.77482933e+01  6.21724894e-15\n",
      "  -3.55271368e-15 -1.33226763e-15  4.88498131e-15 -4.36409669e-01\n",
      "   2.23966634e+01  3.55271368e-15 -4.41012645e+01 -9.09629443e+01\n",
      "   4.55553791e+01 -4.64756759e+01 -4.88112898e+01  3.99680289e-15\n",
      "  -5.94583656e+01  6.68535669e+01 -8.88178420e-16  5.77315973e-15\n",
      "   4.44089210e-16 -4.63558336e+01  3.22416941e+01  5.32907052e-15\n",
      "   1.77635684e-15  5.32907052e-15  4.88498131e-15  1.77635684e-15\n",
      "   6.05634792e+01  8.54815878e+01 -7.61404818e+01  4.50064909e+01\n",
      "  -7.79020476e+01  7.86028124e+01  4.44089210e-15  7.10542736e-15\n",
      "   8.88178420e-16 -4.88498131e-15  5.48897945e+01 -8.58730220e+01\n",
      "  -3.55271368e-15  4.68426051e+01 -1.97335243e+01  5.77315973e-15\n",
      "   4.61241876e+01  0.00000000e+00 -4.97085290e+00  6.61372747e+01\n",
      "   7.27850703e+00  9.32587341e-15  7.10542736e-15  0.00000000e+00\n",
      "   8.57583370e+01 -1.22151308e+00  8.58349289e+01 -3.55271368e-15\n",
      "  -7.12565426e+01 -5.32907052e-15  5.52608883e+01  9.29947596e+01\n",
      "   1.72375442e+01 -8.88178420e-16  4.44089210e-15  2.13056999e+01\n",
      "   6.28943556e+01  6.21724894e-15  2.90794294e+01  3.56578293e+01\n",
      "   0.00000000e+00  1.99840144e-15  8.88178420e-16  2.26837851e+01\n",
      "   4.44089210e-15  3.74879005e+00  2.72532910e+01  5.23428903e+01]]\n"
     ]
    }
   ],
   "source": [
    "print(info_gt['residues'])"
   ]
  },
  {
   "cell_type": "code",
   "execution_count": 42,
   "metadata": {
    "scrolled": true
   },
   "outputs": [
    {
     "name": "stdout",
     "output_type": "stream",
     "text": [
      "[3.23432971e-29 5.20418459e+03 7.72150382e+03 3.89076000e+03\n",
      " 1.66149146e+04 2.47897750e+04 1.14177130e+04 8.35814368e+03\n",
      " 2.38630424e-29 1.22908806e+04 6.38977333e-29 2.08294303e+04\n",
      " 4.48617651e+03 9.54521695e-29 7.50272485e+03 6.97624385e+03\n",
      " 1.32830925e+04 1.05162864e+04 1.08812251e+04 8.02516725e+03\n",
      " 4.51277420e+03 5.85729222e-29 1.76150836e+04 1.23851162e-28\n",
      " 1.32830532e+04 2.36658272e-29 1.20646360e+04 5.62063395e-29\n",
      " 5.72417194e-29 3.72736778e-29 7.43994441e-29 1.15790567e+04\n",
      " 1.10948350e+04 1.75521551e-29 1.37326231e+04 1.41647089e+04\n",
      " 3.16985786e+03 2.32295651e+03 1.27642653e+04 4.00346909e-29\n",
      " 1.67063071e+04 1.06104697e+04 2.99767144e-29 4.22040584e-29\n",
      " 4.59511477e-29 8.80584118e+03 1.76776572e+04 1.00382550e-28\n",
      " 3.33293732e-29 4.10207671e-29 1.10834957e-28 6.62643160e-29\n",
      " 1.23057176e+04 1.30334025e+04 1.25511749e+04 1.18352710e+04\n",
      " 2.36837017e+04 2.07925407e+04 3.94430453e-29 8.20415341e-29\n",
      " 3.51536141e-29 1.33711923e-28 1.10349776e+04 1.50294278e+04\n",
      " 1.11229388e-28 1.17050197e+04 3.99263168e+03 9.52549543e-29\n",
      " 7.44333226e+03 1.18822174e-29 1.55078370e+04 1.63870056e+04\n",
      " 1.47302959e+04 2.04512190e-28 1.66055221e-28 3.94923491e-29\n",
      " 1.81042426e+04 5.04476854e+03 1.28265323e+04 5.83757070e-29\n",
      " 1.21272460e+04 6.88281140e-29 3.67922723e+03 1.75165750e+04\n",
      " 1.39410095e+04 6.78420378e-29 5.12759588e-29 1.60142857e+04\n",
      " 1.44373202e+04 1.05707361e-28 1.51134918e+04 2.88816453e+03\n",
      " 6.51303285e-29 2.70677898e-29 1.04524070e-29 1.10369245e+03\n",
      " 1.36472937e-28 7.25108171e+03 5.78576225e+03 5.97564947e+03]\n"
     ]
    }
   ],
   "source": [
    "print(info_gt['residuals'])"
   ]
  },
  {
   "cell_type": "code",
   "execution_count": 43,
   "metadata": {
    "scrolled": true
   },
   "outputs": [
    {
     "name": "stdout",
     "output_type": "stream",
     "text": [
      "[3.23432971e-29 5.20418459e+03 7.72150382e+03 3.89076000e+03\n",
      " 1.66149146e+04 2.47897750e+04 1.14177130e+04 8.35814368e+03\n",
      " 2.38630424e-29 1.22908806e+04 6.38977333e-29 2.08294303e+04\n",
      " 4.48617651e+03 9.54521695e-29 7.50272485e+03 6.97624385e+03\n",
      " 1.32830925e+04 1.05162864e+04 1.08812251e+04 8.02516725e+03\n",
      " 4.51277420e+03 5.85729222e-29 1.76150836e+04 1.23851162e-28\n",
      " 1.32830532e+04 2.36658272e-29 1.20646360e+04 5.62063395e-29\n",
      " 5.72417194e-29 3.72736778e-29 7.43994441e-29 1.15790567e+04\n",
      " 1.10948350e+04 1.75521551e-29 1.37326231e+04 1.41647089e+04\n",
      " 3.16985786e+03 2.32295651e+03 1.27642653e+04 4.00346909e-29\n",
      " 1.67063071e+04 1.06104697e+04 2.99767144e-29 4.22040584e-29\n",
      " 4.59511477e-29 8.80584118e+03 1.76776572e+04 1.00382550e-28\n",
      " 3.33293732e-29 4.10207671e-29 1.10834957e-28 6.62643160e-29\n",
      " 1.23057176e+04 1.30334025e+04 1.25511749e+04 1.18352710e+04\n",
      " 2.36837017e+04 2.07925407e+04 3.94430453e-29 8.20415341e-29\n",
      " 3.51536141e-29 1.33711923e-28 1.10349776e+04 1.50294278e+04\n",
      " 1.11229388e-28 1.17050197e+04 3.99263168e+03 9.52549543e-29\n",
      " 7.44333226e+03 1.18822174e-29 1.55078370e+04 1.63870056e+04\n",
      " 1.47302959e+04 2.04512190e-28 1.66055221e-28 3.94923491e-29\n",
      " 1.81042426e+04 5.04476854e+03 1.28265323e+04 5.83757070e-29\n",
      " 1.21272460e+04 6.88281140e-29 3.67922723e+03 1.75165750e+04\n",
      " 1.39410095e+04 6.78420378e-29 5.12759588e-29 1.60142857e+04\n",
      " 1.44373202e+04 1.05707361e-28 1.51134918e+04 2.88816453e+03\n",
      " 6.51303285e-29 2.70677898e-29 1.04524070e-29 1.10369245e+03\n",
      " 1.36472937e-28 7.25108171e+03 5.78576225e+03 5.97564947e+03]\n"
     ]
    }
   ],
   "source": [
    "print(info_gt['residuals'])"
   ]
  },
  {
   "cell_type": "code",
   "execution_count": 44,
   "metadata": {},
   "outputs": [
    {
     "name": "stdout",
     "output_type": "stream",
     "text": [
      "Problem:\n",
      "\n",
      "Type: linear-estimation\n",
      "Measurements (N): 100\n",
      "Num. outliers (k):  60\n",
      "Num. priors:    0\n",
      "Num. possible outliers (|V|):  100\n",
      "   k/N: %.03f\n",
      " 0.6\n",
      "   k/|V|: %.03f\n",
      " 0.6\n",
      "  - Least-Square\n",
      "\n",
      "Solving with:\n",
      "\n",
      "  - Ground-Truth Least-Square...\n",
      "\n"
     ]
    }
   ],
   "source": [
    "num_samples = 100; #% how many measurements are available\n",
    "outliers_percentage = 0.6;\n",
    "\n",
    "problem = linearRegressionProblem(num_samples, outliers_percentage);\n",
    "\n",
    "problem = linearRegressionProblem(num_samples, outliers_percentage);\n",
    "problem['f'] = leastSquareNorm2;\n",
    "problem['MinMeasurements'] = 1;\n",
    "\n",
    "printProblemSummary(problem)\n",
    "\n",
    "print('  - Least-Square\\n')\n",
    "start_t = datetime.datetime.now();\n",
    "\n",
    "[f_val_ls, info_ls] = leastSquareNorm2(problem, Inliers =range(problem['N']));\n",
    "runtime = (datetime.datetime.now()-start_t)#*24*60*60;\n",
    "\n",
    "print('Solving with:\\n')\n",
    "\n",
    "results = {}\n",
    "results['ls'] = {}\n",
    "results['ls']['algname'] = 'Least-Square'\n",
    "results['ls']['f_val'] = f_val_ls\n",
    "#tp, fp = detectionStats(problem, np.arange(1, problem['N']+1))\n",
    "#results['ls']['stats'] = {'tp': tp, 'fp': fp}\n",
    "results['ls']['iterations'] = 1\n",
    "results['ls']['time'] = runtime\n",
    "\n",
    "print('  - Ground-Truth Least-Square...\\n')\n",
    "inliers_gt = np.setdiff1d(range(problem['N']), problem['outliers']);\n",
    "\n",
    "start_t = datetime.datetime.now()\n",
    "f_val_gt,info_gt = leastSquareNorm2(problem, Inliers=list(inliers_gt))\n",
    "runtime_gt = (datetime.datetime.now()-start_t)#*24*60*60;"
   ]
  },
  {
   "cell_type": "code",
   "execution_count": 45,
   "metadata": {},
   "outputs": [
    {
     "data": {
      "text/plain": [
       "datetime.datetime(2023, 5, 5, 22, 16, 47, 421923)"
      ]
     },
     "execution_count": 45,
     "metadata": {},
     "output_type": "execute_result"
    }
   ],
   "source": [
    "datetime.datetime.now()"
   ]
  },
  {
   "cell_type": "code",
   "execution_count": 46,
   "metadata": {},
   "outputs": [
    {
     "name": "stdout",
     "output_type": "stream",
     "text": [
      "633808.0487532781\n",
      "3.786988405271688e-27\n",
      "3.786988405271688e-27\n",
      "633808.0487532781\n"
     ]
    }
   ],
   "source": [
    "print(f_val_ls)\n",
    "print(f_val_gt)\n",
    "\n",
    "results['gt'] = {}\n",
    "results['gt']['algname'] = 'Ground-Truth';\n",
    "results['gt']['f_val'] = f_val_gt;\n",
    "#[results['gt'].stats.tp, results.gt.stats.fp] = detectionStats(problem, inliers_gt);\n",
    "results['gt']['iterations'] = 1;\n",
    "results['gt']['time'] = runtime_gt;\n",
    "\n",
    "print(results['gt']['f_val'])\n",
    "print(results['ls']['f_val'])"
   ]
  },
  {
   "cell_type": "code",
   "execution_count": 47,
   "metadata": {},
   "outputs": [
    {
     "name": "stdout",
     "output_type": "stream",
     "text": [
      "  - GNC\n",
      "\n"
     ]
    }
   ],
   "source": [
    "print('  - GNC\\n')\n",
    "#start_t = datetime.datetime.now()\n",
    "[inliers_gnc, info_gnc] = gnc(problem, problem['f'], NoiseBound=cfg['epsilon']);\n",
    "#runtime_gnc = (datetime.datetime.now()-start_t)*24*60*60;\n",
    "\n",
    "results['gnc'] = {}\n",
    "results['gnc']['algname'] = 'GNC';\n",
    "[f_val_gnc, info1_gnc] = leastSquareNorm2(problem, Inliers=inliers_gnc)\n",
    "\n",
    "results['gnc']['f_val'] = f_val_gnc\n",
    "results['gnc']['time'] = info_gnc['time'];\n",
    "\n",
    "#[results.gnc.stats.tp, results.gnc.stats.fp] = ...\n",
    "#    detectionStats(problem, inliers);\n",
    "\n"
   ]
  },
  {
   "cell_type": "code",
   "execution_count": null,
   "metadata": {},
   "outputs": [],
   "source": []
  },
  {
   "cell_type": "code",
   "execution_count": 48,
   "metadata": {},
   "outputs": [
    {
     "name": "stdout",
     "output_type": "stream",
     "text": [
      "633808.0487532781\n",
      "3.786988405271688e-27\n",
      "3.786988405271688e-27\n"
     ]
    }
   ],
   "source": [
    "print(results['ls']['f_val'])\n",
    "print(results['gt']['f_val'])\n",
    "print(results['gnc']['f_val'])"
   ]
  },
  {
   "cell_type": "code",
   "execution_count": 49,
   "metadata": {},
   "outputs": [
    {
     "name": "stdout",
     "output_type": "stream",
     "text": [
      "0:00:00.023302\n",
      "0:00:00.008061\n",
      "0:00:00.326636\n"
     ]
    }
   ],
   "source": [
    "print(results['ls']['time'])\n",
    "print(results['gt']['time'])\n",
    "print(results['gnc']['time'])"
   ]
  },
  {
   "cell_type": "code",
   "execution_count": 50,
   "metadata": {},
   "outputs": [
    {
     "name": "stdout",
     "output_type": "stream",
     "text": [
      "Problem:\n",
      "\n",
      "Type: linear-estimation\n",
      "Measurements (N): 100\n",
      "Num. outliers (k):  70\n",
      "Num. priors:    0\n",
      "Num. possible outliers (|V|):  100\n",
      "   k/N: %.03f\n",
      " 0.7\n",
      "   k/|V|: %.03f\n",
      " 0.7\n",
      "  - Least-Square\n",
      "\n",
      "Solving with:\n",
      "\n",
      "  - Ground-Truth Least-Square...\n",
      "\n",
      "641338.4718590766\n",
      "8.476803464665535e-27\n",
      "8.476803464665535e-27\n",
      "641338.4718590766\n",
      "  - GNC\n",
      "\n"
     ]
    }
   ],
   "source": [
    "num_samples = 100; #% how many measurements are available\n",
    "outliers_percentage = 0.7;\n",
    "\n",
    "problem = linearRegressionProblem(num_samples, outliers_percentage);\n",
    "\n",
    "problem = linearRegressionProblem(num_samples, outliers_percentage);\n",
    "problem['f'] = leastSquareNorm2;\n",
    "problem['MinMeasurements'] = 1;\n",
    "\n",
    "printProblemSummary(problem)\n",
    "\n",
    "print('  - Least-Square\\n')\n",
    "start_t = datetime.datetime.now();\n",
    "\n",
    "[f_val_ls, info_ls] = leastSquareNorm2(problem, Inliers =range(problem['N']));\n",
    "runtime = (datetime.datetime.now()-start_t)#*24*60*60;\n",
    "\n",
    "print('Solving with:\\n')\n",
    "\n",
    "results = {}\n",
    "results['ls'] = {}\n",
    "results['ls']['algname'] = 'Least-Square'\n",
    "results['ls']['f_val'] = f_val_ls\n",
    "#tp, fp = detectionStats(problem, np.arange(1, problem['N']+1))\n",
    "#results['ls']['stats'] = {'tp': tp, 'fp': fp}\n",
    "results['ls']['iterations'] = 1\n",
    "results['ls']['time'] = runtime\n",
    "\n",
    "print('  - Ground-Truth Least-Square...\\n')\n",
    "inliers_gt = np.setdiff1d(range(problem['N']), problem['outliers']);\n",
    "\n",
    "start_t = datetime.datetime.now()\n",
    "f_val_gt,info_gt = leastSquareNorm2(problem, Inliers=list(inliers_gt))\n",
    "runtime_gt = (datetime.datetime.now()-start_t)#*24*60*60;\n",
    "\n",
    "print(f_val_ls)\n",
    "print(f_val_gt)\n",
    "\n",
    "results['gt'] = {}\n",
    "results['gt']['algname'] = 'Ground-Truth';\n",
    "results['gt']['f_val'] = f_val_gt;\n",
    "#[results['gt'].stats.tp, results.gt.stats.fp] = detectionStats(problem, inliers_gt);\n",
    "results['gt']['iterations'] = 1;\n",
    "results['gt']['time'] = runtime_gt;\n",
    "\n",
    "print(results['gt']['f_val'])\n",
    "print(results['ls']['f_val'])\n",
    "\n",
    "print('  - GNC\\n')\n",
    "[inliers_gnc, info_gnc] = gnc(problem, problem['f'], NoiseBound=cfg['epsilon']);\n",
    "\n",
    "results['gnc'] = {}\n",
    "results['gnc']['algname'] = 'GNC';\n",
    "[f_val_gnc, info1_gnc] = leastSquareNorm2(problem, Inliers=inliers_gnc)\n",
    "\n",
    "results['gnc']['f_val'] = f_val_gnc\n",
    "results['gnc']['time'] = info_gnc['time'];\n",
    "\n",
    "#[results.gnc.stats.tp, results.gnc.stats.fp] = ...\n",
    "#    detectionStats(problem, inliers);\n",
    "\n"
   ]
  },
  {
   "cell_type": "code",
   "execution_count": 51,
   "metadata": {},
   "outputs": [
    {
     "name": "stdout",
     "output_type": "stream",
     "text": [
      "[1, 5, 7, 8, 9, 10, 14, 16, 19, 23, 25, 30, 35, 43, 44, 53, 64, 69, 70, 71, 73, 74, 79, 81, 85, 88, 90, 92, 93, 99]\n",
      "[ 1  5  7  8  9 10 14 16 19 23 25 30 35 43 44 53 64 69 70 71 73 74 79 81\n",
      " 85 88 90 92 93 99]\n",
      "[ True  True  True  True  True  True  True  True  True  True  True  True\n",
      "  True  True  True  True  True  True  True  True  True  True  True  True\n",
      "  True  True  True  True  True  True]\n",
      "641338.4718590766\n",
      "8.476803464665535e-27\n",
      "8.476803464665535e-27\n"
     ]
    }
   ],
   "source": [
    "print(inliers_gnc)\n",
    "print(inliers_gt)\n",
    "print(inliers_gnc == inliers_gt)\n",
    "print(results['ls']['f_val'])\n",
    "print(results['gt']['f_val'])\n",
    "print(results['gnc']['f_val'])"
   ]
  },
  {
   "cell_type": "code",
   "execution_count": 52,
   "metadata": {},
   "outputs": [
    {
     "name": "stdout",
     "output_type": "stream",
     "text": [
      "0:00:00.018996\n",
      "0:00:00.007577\n",
      "0:00:00.288663\n"
     ]
    }
   ],
   "source": [
    "print(results['ls']['time'])\n",
    "print(results['gt']['time'])\n",
    "print(results['gnc']['time'])"
   ]
  },
  {
   "cell_type": "code",
   "execution_count": 53,
   "metadata": {},
   "outputs": [
    {
     "name": "stdout",
     "output_type": "stream",
     "text": [
      "Problem:\n",
      "\n",
      "Type: linear-estimation\n",
      "Measurements (N): 100\n",
      "Num. outliers (k):  80\n",
      "Num. priors:    0\n",
      "Num. possible outliers (|V|):  100\n",
      "   k/N: %.03f\n",
      " 0.8\n",
      "   k/|V|: %.03f\n",
      " 0.8\n",
      "  - Least-Square\n",
      "\n",
      "Solving with:\n",
      "\n",
      "  - Ground-Truth Least-Square...\n",
      "\n",
      "759699.3763140291\n",
      "6.100113468654355e-29\n",
      "6.100113468654355e-29\n",
      "759699.3763140291\n",
      "  - GNC\n",
      "\n"
     ]
    }
   ],
   "source": [
    "num_samples = 100; #% how many measurements are available\n",
    "outliers_percentage = 0.8;\n",
    "\n",
    "problem = linearRegressionProblem(num_samples, outliers_percentage);\n",
    "\n",
    "problem = linearRegressionProblem(num_samples, outliers_percentage);\n",
    "problem['f'] = leastSquareNorm2;\n",
    "problem['MinMeasurements'] = 1;\n",
    "\n",
    "printProblemSummary(problem)\n",
    "\n",
    "print('  - Least-Square\\n')\n",
    "start_t = datetime.datetime.now();\n",
    "\n",
    "[f_val_ls, info_ls] = leastSquareNorm2(problem, Inliers =range(problem['N']));\n",
    "runtime = (datetime.datetime.now()-start_t)#*24*60*60;\n",
    "\n",
    "print('Solving with:\\n')\n",
    "\n",
    "results = {}\n",
    "results['ls'] = {}\n",
    "results['ls']['algname'] = 'Least-Square'\n",
    "results['ls']['f_val'] = f_val_ls\n",
    "#tp, fp = detectionStats(problem, np.arange(1, problem['N']+1))\n",
    "#results['ls']['stats'] = {'tp': tp, 'fp': fp}\n",
    "results['ls']['iterations'] = 1\n",
    "results['ls']['time'] = runtime\n",
    "\n",
    "print('  - Ground-Truth Least-Square...\\n')\n",
    "inliers_gt = np.setdiff1d(range(problem['N']), problem['outliers']);\n",
    "\n",
    "start_t = datetime.datetime.now()\n",
    "f_val_gt,info_gt = leastSquareNorm2(problem, Inliers=list(inliers_gt))\n",
    "runtime_gt = (datetime.datetime.now()-start_t)#*24*60*60;\n",
    "\n",
    "print(f_val_ls)\n",
    "print(f_val_gt)\n",
    "\n",
    "results['gt'] = {}\n",
    "results['gt']['algname'] = 'Ground-Truth';\n",
    "results['gt']['f_val'] = f_val_gt;\n",
    "#[results['gt'].stats.tp, results.gt.stats.fp] = detectionStats(problem, inliers_gt);\n",
    "results['gt']['iterations'] = 1;\n",
    "results['gt']['time'] = runtime_gt;\n",
    "\n",
    "print(results['gt']['f_val'])\n",
    "print(results['ls']['f_val'])\n",
    "\n",
    "print('  - GNC\\n')\n",
    "[inliers_gnc, info_gnc] = gnc(problem, problem['f'], NoiseBound=cfg['epsilon']);\n",
    "\n",
    "results['gnc'] = {}\n",
    "results['gnc']['algname'] = 'GNC';\n",
    "[f_val_gnc, info1_gnc] = leastSquareNorm2(problem, Inliers=inliers_gnc)\n",
    "\n",
    "results['gnc']['f_val'] = f_val_gnc\n",
    "results['gnc']['time'] = info_gnc['time'];\n",
    "#[results.gnc.stats.tp, results.gnc.stats.fp] = ...\n",
    "#    detectionStats(problem, inliers);\n",
    "\n"
   ]
  },
  {
   "cell_type": "code",
   "execution_count": 54,
   "metadata": {},
   "outputs": [
    {
     "name": "stdout",
     "output_type": "stream",
     "text": [
      "[8, 9, 12, 13, 14, 22, 26, 30, 31, 34, 35, 39, 42, 45, 65, 73, 75, 83, 88, 89]\n",
      "[ 8  9 12 13 14 22 26 30 31 34 35 39 42 45 65 73 75 83 88 89]\n",
      "[ True  True  True  True  True  True  True  True  True  True  True  True\n",
      "  True  True  True  True  True  True  True  True]\n",
      "759699.3763140291\n",
      "6.100113468654355e-29\n",
      "6.100113468654355e-29\n"
     ]
    }
   ],
   "source": [
    "print(inliers_gnc)\n",
    "print(inliers_gt)\n",
    "print(inliers_gnc == inliers_gt)\n",
    "print(results['ls']['f_val'])\n",
    "print(results['gt']['f_val'])\n",
    "print(results['gnc']['f_val'])"
   ]
  },
  {
   "cell_type": "code",
   "execution_count": 55,
   "metadata": {},
   "outputs": [
    {
     "name": "stdout",
     "output_type": "stream",
     "text": [
      "0:00:00.021912\n",
      "0:00:00.009660\n",
      "0:00:00.320849\n"
     ]
    }
   ],
   "source": [
    "print(results['ls']['time'])\n",
    "print(results['gt']['time'])\n",
    "print(results['gnc']['time'])"
   ]
  },
  {
   "cell_type": "code",
   "execution_count": 56,
   "metadata": {},
   "outputs": [
    {
     "name": "stdout",
     "output_type": "stream",
     "text": [
      "Problem:\n",
      "\n",
      "Type: linear-estimation\n",
      "Measurements (N): 100\n",
      "Num. outliers (k):  90\n",
      "Num. priors:    0\n",
      "Num. possible outliers (|V|):  100\n",
      "   k/N: %.03f\n",
      " 0.9\n",
      "   k/|V|: %.03f\n",
      " 0.9\n",
      "  - Least-Square\n",
      "\n",
      "Solving with:\n",
      "\n",
      "  - Ground-Truth Least-Square...\n",
      "\n",
      "945277.1221616952\n",
      "6.001505855501729e-29\n",
      "6.001505855501729e-29\n",
      "945277.1221616952\n",
      "  - GNC\n",
      "\n"
     ]
    }
   ],
   "source": [
    "num_samples = 100; #% how many measurements are available\n",
    "outliers_percentage = 0.9;\n",
    "\n",
    "problem = linearRegressionProblem(num_samples, outliers_percentage);\n",
    "\n",
    "problem = linearRegressionProblem(num_samples, outliers_percentage);\n",
    "problem['f'] = leastSquareNorm2;\n",
    "problem['MinMeasurements'] = 1;\n",
    "\n",
    "printProblemSummary(problem)\n",
    "\n",
    "print('  - Least-Square\\n')\n",
    "start_t = datetime.datetime.now();\n",
    "\n",
    "[f_val_ls, info_ls] = leastSquareNorm2(problem, Inliers =range(problem['N']));\n",
    "runtime = (datetime.datetime.now()-start_t)#*24*60*60;\n",
    "\n",
    "print('Solving with:\\n')\n",
    "\n",
    "results = {}\n",
    "results['ls'] = {}\n",
    "results['ls']['algname'] = 'Least-Square'\n",
    "results['ls']['f_val'] = f_val_ls\n",
    "#tp, fp = detectionStats(problem, np.arange(1, problem['N']+1))\n",
    "#results['ls']['stats'] = {'tp': tp, 'fp': fp}\n",
    "results['ls']['iterations'] = 1\n",
    "results['ls']['time'] = runtime\n",
    "\n",
    "print('  - Ground-Truth Least-Square...\\n')\n",
    "inliers_gt = np.setdiff1d(range(problem['N']), problem['outliers']);\n",
    "\n",
    "start_t = datetime.datetime.now()\n",
    "f_val_gt,info_gt = leastSquareNorm2(problem, Inliers=list(inliers_gt))\n",
    "runtime_gt = (datetime.datetime.now()-start_t)#*24*60*60;\n",
    "\n",
    "print(f_val_ls)\n",
    "print(f_val_gt)\n",
    "\n",
    "results['gt'] = {}\n",
    "results['gt']['algname'] = 'Ground-Truth';\n",
    "results['gt']['f_val'] = f_val_gt;\n",
    "#[results['gt'].stats.tp, results.gt.stats.fp] = detectionStats(problem, inliers_gt);\n",
    "results['gt']['iterations'] = 1;\n",
    "results['gt']['time'] = runtime_gt;\n",
    "\n",
    "print(results['gt']['f_val'])\n",
    "print(results['ls']['f_val'])\n",
    "\n",
    "print('  - GNC\\n')\n",
    "[inliers_gnc, info_gnc] = gnc(problem, problem['f'], NoiseBound=cfg['epsilon']);\n",
    "\n",
    "results['gnc'] = {}\n",
    "results['gnc']['algname'] = 'GNC';\n",
    "[f_val_gnc, info1_gnc] = leastSquareNorm2(problem, Inliers=inliers_gnc)\n",
    "\n",
    "results['gnc']['f_val'] = f_val_gnc\n",
    "results['gnc']['time'] = info_gnc['time'];\n",
    "#[results.gnc.stats.tp, results.gnc.stats.fp] = ...\n",
    "#    detectionStats(problem, inliers);\n",
    "\n"
   ]
  },
  {
   "cell_type": "code",
   "execution_count": 57,
   "metadata": {},
   "outputs": [
    {
     "name": "stdout",
     "output_type": "stream",
     "text": [
      "[25, 26, 31, 44, 46, 52, 68, 69, 88, 96]\n",
      "[25 26 31 44 46 52 68 69 88 96]\n",
      "[ True  True  True  True  True  True  True  True  True  True]\n",
      "945277.1221616952\n",
      "6.001505855501729e-29\n",
      "6.001505855501729e-29\n"
     ]
    }
   ],
   "source": [
    "print(inliers_gnc)\n",
    "print(inliers_gt)\n",
    "print(inliers_gnc == inliers_gt)\n",
    "print(results['ls']['f_val'])\n",
    "print(results['gt']['f_val'])\n",
    "print(results['gnc']['f_val'])"
   ]
  },
  {
   "cell_type": "code",
   "execution_count": 58,
   "metadata": {},
   "outputs": [
    {
     "name": "stdout",
     "output_type": "stream",
     "text": [
      "0:00:00.038056\n",
      "0:00:00.004977\n",
      "0:00:00.310310\n"
     ]
    }
   ],
   "source": [
    "print(results['ls']['time'])\n",
    "print(results['gt']['time'])\n",
    "print(results['gnc']['time'])"
   ]
  },
  {
   "cell_type": "code",
   "execution_count": 59,
   "metadata": {
    "scrolled": true
   },
   "outputs": [
    {
     "name": "stdout",
     "output_type": "stream",
     "text": [
      "Problem:\n",
      "\n",
      "Type: linear-estimation\n",
      "Measurements (N): 100\n",
      "Num. outliers (k):  60\n",
      "Num. priors:    0\n",
      "Num. possible outliers (|V|):  100\n",
      "   k/N: %.03f\n",
      " 0.6\n",
      "   k/|V|: %.03f\n",
      " 0.6\n",
      "  - Least-Square\n",
      "\n",
      "Solving with:\n",
      "\n",
      "  - Ground-Truth Least-Square...\n",
      "\n",
      "596806.947325572\n",
      "1.0348733414900065e-26\n",
      "1.0348733414900065e-26\n",
      "596806.947325572\n",
      "  - GNC\n",
      "\n"
     ]
    }
   ],
   "source": [
    "num_samples = 100; #% how many measurements are available\n",
    "outliers_percentage = 0.6;\n",
    "\n",
    "problem = linearRegressionProblem(num_samples, outliers_percentage);\n",
    "\n",
    "problem = linearRegressionProblem(num_samples, outliers_percentage);\n",
    "problem['f'] = leastSquareNorm2;\n",
    "problem['MinMeasurements'] = 1;\n",
    "\n",
    "printProblemSummary(problem)\n",
    "\n",
    "print('  - Least-Square\\n')\n",
    "start_t = datetime.datetime.now();\n",
    "\n",
    "[f_val_ls, info_ls] = leastSquareNorm2(problem, Inliers =range(problem['N']));\n",
    "runtime = (datetime.datetime.now()-start_t)#*24*60*60;\n",
    "\n",
    "print('Solving with:\\n')\n",
    "\n",
    "results = {}\n",
    "results['ls'] = {}\n",
    "results['ls']['algname'] = 'Least-Square'\n",
    "results['ls']['f_val'] = f_val_ls\n",
    "#tp, fp = detectionStats(problem, np.arange(1, problem['N']+1))\n",
    "#results['ls']['stats'] = {'tp': tp, 'fp': fp}\n",
    "results['ls']['iterations'] = 1\n",
    "results['ls']['time'] = runtime\n",
    "\n",
    "print('  - Ground-Truth Least-Square...\\n')\n",
    "inliers_gt = np.setdiff1d(range(problem['N']), problem['outliers']);\n",
    "\n",
    "start_t = datetime.datetime.now()\n",
    "f_val_gt,info_gt = leastSquareNorm2(problem, Inliers=list(inliers_gt))\n",
    "runtime_gt = (datetime.datetime.now()-start_t)#*24*60*60;\n",
    "\n",
    "print(f_val_ls)\n",
    "print(f_val_gt)\n",
    "\n",
    "results['gt'] = {}\n",
    "results['gt']['algname'] = 'Ground-Truth';\n",
    "results['gt']['f_val'] = f_val_gt;\n",
    "#[results['gt'].stats.tp, results.gt.stats.fp] = detectionStats(problem, inliers_gt);\n",
    "results['gt']['iterations'] = 1;\n",
    "results['gt']['time'] = runtime;\n",
    "\n",
    "print(results['gt']['f_val'])\n",
    "print(results['ls']['f_val'])\n",
    "\n",
    "print('  - GNC\\n')\n",
    "[inliers_gnc, info_gnc] = gnc(problem, problem['f'], NoiseBound=cfg['epsilon']);\n",
    "\n",
    "results['gnc'] = {}\n",
    "results['gnc']['algname'] = 'GNC';\n",
    "[f_val_gnc, info1_gnc] = leastSquareNorm2(problem, Inliers=inliers_gnc)\n",
    "\n",
    "results['gnc']['f_val'] = f_val_gnc\n",
    "results['gnc']['time'] = info_gnc['time'];\n",
    "#[results.gnc.stats.tp, results.gnc.stats.fp] = ...\n",
    "#    detectionStats(problem, inliers);\n",
    "\n"
   ]
  },
  {
   "cell_type": "code",
   "execution_count": 60,
   "metadata": {},
   "outputs": [
    {
     "name": "stdout",
     "output_type": "stream",
     "text": [
      "[0, 5, 6, 9, 11, 12, 15, 18, 19, 20, 21, 22, 23, 26, 29, 32, 36, 37, 39, 41, 46, 49, 50, 53, 54, 59, 62, 65, 66, 68, 71, 73, 75, 76, 81, 85, 87, 90, 93, 98]\n",
      "[ 0  5  6  9 11 12 15 18 19 20 21 22 23 26 29 32 36 37 39 41 46 49 50 53\n",
      " 54 59 62 65 66 68 71 73 75 76 81 85 87 90 93 98]\n",
      "[ True  True  True  True  True  True  True  True  True  True  True  True\n",
      "  True  True  True  True  True  True  True  True  True  True  True  True\n",
      "  True  True  True  True  True  True  True  True  True  True  True  True\n",
      "  True  True  True  True]\n",
      "596806.947325572\n",
      "1.0348733414900065e-26\n",
      "1.0348733414900065e-26\n"
     ]
    }
   ],
   "source": [
    "print(inliers_gnc)\n",
    "print(inliers_gt)\n",
    "print(inliers_gnc == inliers_gt)\n",
    "print(results['ls']['f_val'])\n",
    "print(results['gt']['f_val'])\n",
    "print(results['gnc']['f_val'])"
   ]
  },
  {
   "cell_type": "code",
   "execution_count": 61,
   "metadata": {},
   "outputs": [
    {
     "name": "stdout",
     "output_type": "stream",
     "text": [
      "0:00:00.020379\n",
      "0:00:00.020379\n",
      "0:00:00.296332\n"
     ]
    }
   ],
   "source": [
    "print(results['ls']['time'])\n",
    "print(results['gt']['time'])\n",
    "print(results['gnc']['time'])"
   ]
  },
  {
   "cell_type": "code",
   "execution_count": 62,
   "metadata": {},
   "outputs": [
    {
     "name": "stdout",
     "output_type": "stream",
     "text": [
      "Problem:\n",
      "\n",
      "Type: linear-estimation\n",
      "Measurements (N): 100\n",
      "Num. outliers (k):  50\n",
      "Num. priors:    0\n",
      "Num. possible outliers (|V|):  100\n",
      "   k/N: %.03f\n",
      " 0.5\n",
      "   k/|V|: %.03f\n",
      " 0.5\n",
      "  - Least-Square\n",
      "\n",
      "Solving with:\n",
      "\n",
      "  - Ground-Truth Least-Square...\n",
      "\n",
      "476280.8836031935\n",
      "1.5908699800979597e-26\n",
      "1.5908699800979597e-26\n",
      "476280.8836031935\n",
      "  - GNC\n",
      "\n"
     ]
    }
   ],
   "source": [
    "num_samples = 100; #% how many measurements are available\n",
    "outliers_percentage = 0.5;\n",
    "\n",
    "problem = linearRegressionProblem(num_samples, outliers_percentage);\n",
    "\n",
    "problem = linearRegressionProblem(num_samples, outliers_percentage);\n",
    "problem['f'] = leastSquareNorm2;\n",
    "problem['MinMeasurements'] = 1;\n",
    "\n",
    "printProblemSummary(problem)\n",
    "\n",
    "print('  - Least-Square\\n')\n",
    "start_t = datetime.datetime.now();\n",
    "\n",
    "[f_val_ls, info_ls] = leastSquareNorm2(problem, Inliers =range(problem['N']));\n",
    "runtime = (datetime.datetime.now()-start_t)#*24*60*60;\n",
    "\n",
    "print('Solving with:\\n')\n",
    "\n",
    "results = {}\n",
    "results['ls'] = {}\n",
    "results['ls']['algname'] = 'Least-Square'\n",
    "results['ls']['f_val'] = f_val_ls\n",
    "#tp, fp = detectionStats(problem, np.arange(1, problem['N']+1))\n",
    "#results['ls']['stats'] = {'tp': tp, 'fp': fp}\n",
    "results['ls']['iterations'] = 1\n",
    "results['ls']['time'] = runtime\n",
    "\n",
    "print('  - Ground-Truth Least-Square...\\n')\n",
    "inliers_gt = np.setdiff1d(range(problem['N']), problem['outliers']);\n",
    "\n",
    "start_t = datetime.datetime.now()\n",
    "f_val_gt,info_gt = leastSquareNorm2(problem, Inliers=list(inliers_gt))\n",
    "runtime_gt = (datetime.datetime.now()-start_t)#*24*60*60;\n",
    "\n",
    "print(f_val_ls)\n",
    "print(f_val_gt)\n",
    "\n",
    "results['gt'] = {}\n",
    "results['gt']['algname'] = 'Ground-Truth';\n",
    "results['gt']['f_val'] = f_val_gt;\n",
    "#[results['gt'].stats.tp, results.gt.stats.fp] = detectionStats(problem, inliers_gt);\n",
    "results['gt']['iterations'] = 1;\n",
    "results['gt']['time'] = runtime_gt;\n",
    "\n",
    "print(results['gt']['f_val'])\n",
    "print(results['ls']['f_val'])\n",
    "\n",
    "print('  - GNC\\n')\n",
    "[inliers_gnc, info_gnc] = gnc(problem, problem['f'], NoiseBound=cfg['epsilon']);\n",
    "\n",
    "results['gnc'] = {}\n",
    "results['gnc']['algname'] = 'GNC';\n",
    "[f_val_gnc, info1_gnc] = leastSquareNorm2(problem, Inliers=inliers_gnc)\n",
    "\n",
    "results['gnc']['f_val'] = f_val_gnc\n",
    "results['gnc']['time'] = info_gnc['time'];\n",
    "#[results.gnc.stats.tp, results.gnc.stats.fp] = ...\n",
    "#    detectionStats(problem, inliers);\n",
    "\n"
   ]
  },
  {
   "cell_type": "code",
   "execution_count": 63,
   "metadata": {
    "scrolled": true
   },
   "outputs": [
    {
     "name": "stdout",
     "output_type": "stream",
     "text": [
      "[0, 2, 6, 8, 9, 11, 12, 14, 17, 21, 23, 25, 27, 28, 32, 33, 34, 35, 37, 40, 41, 43, 47, 48, 51, 53, 54, 57, 58, 59, 60, 63, 64, 65, 66, 67, 68, 72, 74, 76, 79, 82, 84, 85, 86, 87, 92, 93, 95, 97]\n",
      "[ 0  2  6  8  9 11 12 14 17 21 23 25 27 28 32 33 34 35 37 40 41 43 47 48\n",
      " 51 53 54 57 58 59 60 63 64 65 66 67 68 72 74 76 79 82 84 85 86 87 92 93\n",
      " 95 97]\n",
      "[ True  True  True  True  True  True  True  True  True  True  True  True\n",
      "  True  True  True  True  True  True  True  True  True  True  True  True\n",
      "  True  True  True  True  True  True  True  True  True  True  True  True\n",
      "  True  True  True  True  True  True  True  True  True  True  True  True\n",
      "  True  True]\n",
      "476280.8836031935\n",
      "1.5908699800979597e-26\n",
      "1.5908699800979597e-26\n"
     ]
    }
   ],
   "source": [
    "print(inliers_gnc)\n",
    "print(inliers_gt)\n",
    "print(inliers_gnc == inliers_gt)\n",
    "print(results['ls']['f_val'])\n",
    "print(results['gt']['f_val'])\n",
    "print(results['gnc']['f_val'])"
   ]
  },
  {
   "cell_type": "code",
   "execution_count": 64,
   "metadata": {},
   "outputs": [
    {
     "name": "stdout",
     "output_type": "stream",
     "text": [
      "0:00:00.032272\n",
      "0:00:00.021291\n",
      "0:00:00.595251\n"
     ]
    }
   ],
   "source": [
    "print(results['ls']['time'])\n",
    "print(results['gt']['time'])\n",
    "print(results['gnc']['time'])"
   ]
  }
 ],
 "metadata": {
  "kernelspec": {
   "display_name": "Python 3",
   "language": "python",
   "name": "python3"
  },
  "language_info": {
   "codemirror_mode": {
    "name": "ipython",
    "version": 3
   },
   "file_extension": ".py",
   "mimetype": "text/x-python",
   "name": "python",
   "nbconvert_exporter": "python",
   "pygments_lexer": "ipython3",
   "version": "3.7.6"
  }
 },
 "nbformat": 4,
 "nbformat_minor": 4
}
